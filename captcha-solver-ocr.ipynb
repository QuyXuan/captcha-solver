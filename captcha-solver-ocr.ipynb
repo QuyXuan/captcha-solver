{
 "metadata": {
  "kernelspec": {
   "language": "python",
   "display_name": "Python 3",
   "name": "python3"
  },
  "language_info": {
   "name": "python",
   "version": "3.10.13",
   "mimetype": "text/x-python",
   "codemirror_mode": {
    "name": "ipython",
    "version": 3
   },
   "pygments_lexer": "ipython3",
   "nbconvert_exporter": "python",
   "file_extension": ".py"
  },
  "kaggle": {
   "accelerator": "nvidiaTeslaT4",
   "dataSources": [
    {
     "sourceId": 8333236,
     "sourceType": "datasetVersion",
     "datasetId": 4948531
    }
   ],
   "dockerImageVersionId": 30699,
   "isInternetEnabled": true,
   "language": "python",
   "sourceType": "notebook",
   "isGpuEnabled": true
  }
 },
 "nbformat_minor": 4,
 "nbformat": 4,
 "cells": [
  {
   "cell_type": "code",
   "source": "import numpy as np\nimport pandas as pd\nimport tensorflow as tf\nfrom tensorflow.keras import layers\nimport matplotlib.pyplot as plt\n\nfrom pathlib import Path\nfrom collections import Counter\nimport os\nimport math",
   "metadata": {
    "execution": {
     "iopub.status.busy": "2024-05-07T07:16:18.265099Z",
     "iopub.execute_input": "2024-05-07T07:16:18.265528Z",
     "iopub.status.idle": "2024-05-07T07:16:32.308318Z",
     "shell.execute_reply.started": "2024-05-07T07:16:18.265496Z",
     "shell.execute_reply": "2024-05-07T07:16:32.307006Z"
    },
    "trusted": true
   },
   "execution_count": 1,
   "outputs": []
  },
  {
   "cell_type": "code",
   "source": "import logging\ntf.get_logger().setLevel(logging.ERROR)",
   "metadata": {
    "execution": {
     "iopub.status.busy": "2024-05-07T07:16:33.309160Z",
     "iopub.execute_input": "2024-05-07T07:16:33.310022Z",
     "iopub.status.idle": "2024-05-07T07:16:33.314988Z",
     "shell.execute_reply.started": "2024-05-07T07:16:33.309977Z",
     "shell.execute_reply": "2024-05-07T07:16:33.313721Z"
    },
    "trusted": true
   },
   "execution_count": 3,
   "outputs": []
  },
  {
   "cell_type": "code",
   "source": "BASE_DIR = Path('/kaggle/input/captchanumberdataset/captcha_number_dataset')\n\nIMAGES = sorted(list(map(str, list(BASE_DIR.glob('*.png')))))\nLABELS = [img.split(os.path.sep)[-1].split('.png')[0] for img in IMAGES]\nCHARACTERS = set(char for LABEL in LABELS for char in LABEL)\n\nprint(f'Number of Images found: {len(IMAGES)}')\nprint(f'Number of Labels found: {len(LABELS)}')\nprint(f'Number of Unique Characters found: {len(CHARACTERS)}')\nprint(f'Character List: {CHARACTERS}')",
   "metadata": {
    "execution": {
     "iopub.status.busy": "2024-05-07T07:17:51.567068Z",
     "iopub.execute_input": "2024-05-07T07:17:51.567800Z",
     "iopub.status.idle": "2024-05-07T07:17:52.552983Z",
     "shell.execute_reply.started": "2024-05-07T07:17:51.567767Z",
     "shell.execute_reply": "2024-05-07T07:17:52.551953Z"
    },
    "trusted": true
   },
   "execution_count": 6,
   "outputs": []
  },
  {
   "cell_type": "code",
   "source": "IMAGES[0], LABELS[0]",
   "metadata": {
    "execution": {
     "iopub.status.busy": "2024-05-07T07:17:56.501110Z",
     "iopub.execute_input": "2024-05-07T07:17:56.501521Z",
     "iopub.status.idle": "2024-05-07T07:17:56.509224Z",
     "shell.execute_reply.started": "2024-05-07T07:17:56.501490Z",
     "shell.execute_reply": "2024-05-07T07:17:56.508081Z"
    },
    "trusted": true
   },
   "execution_count": 7,
   "outputs": []
  },
  {
   "cell_type": "code",
   "source": "BATCH_SIZE = 32\nBUFFER_SIZE = 1000\n\nIMG_WIDTH, IMG_HEIGHT = 150, 40\ndownsample_factor = 4\nmax_length = max([len(label) for label in LABELS])\nMAX_CHARS = len(CHARACTERS)\nmax_length",
   "metadata": {
    "execution": {
     "iopub.status.busy": "2024-05-07T07:26:26.761505Z",
     "iopub.execute_input": "2024-05-07T07:26:26.761915Z",
     "iopub.status.idle": "2024-05-07T07:26:26.781278Z",
     "shell.execute_reply.started": "2024-05-07T07:26:26.761889Z",
     "shell.execute_reply": "2024-05-07T07:26:26.779995Z"
    },
    "trusted": true
   },
   "execution_count": 8,
   "outputs": []
  },
  {
   "cell_type": "markdown",
   "source": "## Data Pre-Processing",
   "metadata": {}
  },
  {
   "cell_type": "code",
   "source": "char_to_num = layers.StringLookup(vocabulary=list(CHARACTERS),\n                                  num_oov_indices=0,\n                                  mask_token=None)\n\nnum_to_char = layers.StringLookup(vocabulary=char_to_num.get_vocabulary(), \n                                  mask_token=None, \n                                  num_oov_indices=0,\n                                  invert=True)",
   "metadata": {
    "execution": {
     "iopub.status.busy": "2024-05-07T07:27:01.259311Z",
     "iopub.execute_input": "2024-05-07T07:27:01.260292Z",
     "iopub.status.idle": "2024-05-07T07:27:02.050516Z",
     "shell.execute_reply.started": "2024-05-07T07:27:01.260257Z",
     "shell.execute_reply": "2024-05-07T07:27:02.049621Z"
    },
    "trusted": true
   },
   "execution_count": 9,
   "outputs": []
  },
  {
   "cell_type": "code",
   "source": "def split_data(images, labels, train_size=0.8, shuffle=True):\n    size = len(images)\n    \n    indices = np.arange(size)\n    \n    if shuffle:\n        np.random.shuffle(indices)\n        \n    train_samples = int(size * train_size)\n    \n    x_train, y_train = images[indices[:train_samples]], labels[indices[:train_samples]]\n    x_valid, y_valid = images[indices[train_samples:]], labels[indices[train_samples:]]\n    \n    return x_train, x_valid, y_train, y_valid",
   "metadata": {
    "execution": {
     "iopub.status.busy": "2024-05-07T07:27:13.567619Z",
     "iopub.execute_input": "2024-05-07T07:27:13.568034Z",
     "iopub.status.idle": "2024-05-07T07:27:13.575260Z",
     "shell.execute_reply.started": "2024-05-07T07:27:13.568004Z",
     "shell.execute_reply": "2024-05-07T07:27:13.574042Z"
    },
    "trusted": true
   },
   "execution_count": 10,
   "outputs": []
  },
  {
   "cell_type": "code",
   "source": "def encode_single_sample(image_path, label):\n    img = tf.io.read_file(image_path)\n    img = tf.io.decode_jpeg(img, channels=1)\n    img = tf.image.convert_image_dtype(img, tf.float32)\n    img = tf.image.resize(img, [IMG_HEIGHT, IMG_WIDTH])\n    img = tf.transpose(img, perm=[1, 0, 2])\n    label = char_to_num(tf.strings.unicode_split(label, input_encoding=\"UTF-8\"))\n    label = tf.one_hot(indices=label, depth=MAX_CHARS+1)\n    # return {'image': img, 'label':label}\n    return img, label",
   "metadata": {
    "execution": {
     "iopub.status.busy": "2024-05-07T07:27:22.574564Z",
     "iopub.execute_input": "2024-05-07T07:27:22.575349Z",
     "iopub.status.idle": "2024-05-07T07:27:22.582283Z",
     "shell.execute_reply.started": "2024-05-07T07:27:22.575312Z",
     "shell.execute_reply": "2024-05-07T07:27:22.581131Z"
    },
    "trusted": true
   },
   "execution_count": 11,
   "outputs": []
  },
  {
   "cell_type": "code",
   "source": "X_train, X_valid, y_train, y_valid = split_data(np.array(IMAGES), np.array(LABELS))",
   "metadata": {
    "execution": {
     "iopub.status.busy": "2024-05-07T07:30:42.921550Z",
     "iopub.execute_input": "2024-05-07T07:30:42.921957Z",
     "iopub.status.idle": "2024-05-07T07:30:43.066572Z",
     "shell.execute_reply.started": "2024-05-07T07:30:42.921928Z",
     "shell.execute_reply": "2024-05-07T07:30:43.065645Z"
    },
    "trusted": true
   },
   "execution_count": 12,
   "outputs": []
  },
  {
   "cell_type": "code",
   "source": "X_train[0], y_train[0], tf.strings.reduce_join(num_to_char(char_to_num(tf.strings.unicode_split(y_train[0], input_encoding=\"UTF-8\")))).numpy().decode('utf-8')",
   "metadata": {
    "execution": {
     "iopub.status.busy": "2024-05-07T07:30:51.275133Z",
     "iopub.execute_input": "2024-05-07T07:30:51.276151Z",
     "iopub.status.idle": "2024-05-07T07:30:51.367493Z",
     "shell.execute_reply.started": "2024-05-07T07:30:51.276112Z",
     "shell.execute_reply": "2024-05-07T07:30:51.366474Z"
    },
    "trusted": true
   },
   "execution_count": 13,
   "outputs": []
  },
  {
   "cell_type": "code",
   "source": "train_dataset = tf.data.Dataset.from_tensor_slices((X_train, y_train))\ntrain_dataset = (\n    train_dataset.map(encode_single_sample, \n                      num_parallel_calls=tf.data.AUTOTUNE)\n    .batch(BATCH_SIZE)\n    .prefetch(buffer_size=tf.data.AUTOTUNE)\n)\n\nvalid_dataset = tf.data.Dataset.from_tensor_slices((X_valid, y_valid))\n\nvalid_dataset = (\n    valid_dataset.map(encode_single_sample, \n                      num_parallel_calls=tf.data.AUTOTUNE)\n    .batch(BATCH_SIZE)\n    .prefetch(buffer_size=tf.data.AUTOTUNE)\n)",
   "metadata": {
    "execution": {
     "iopub.status.busy": "2024-05-07T07:31:18.748122Z",
     "iopub.execute_input": "2024-05-07T07:31:18.748956Z",
     "iopub.status.idle": "2024-05-07T07:31:19.058744Z",
     "shell.execute_reply.started": "2024-05-07T07:31:18.748923Z",
     "shell.execute_reply": "2024-05-07T07:31:19.057601Z"
    },
    "trusted": true
   },
   "execution_count": 14,
   "outputs": []
  },
  {
   "cell_type": "code",
   "source": "_, ax = plt.subplots(4, 4, figsize=(10, 5))\nfor batch in train_dataset.take(1):\n        \n#    images = batch['image']\n#    labels = batch['label']\n    images = batch[0]\n    labels = batch[1]\n    # print(batch[1].shape)\n    # print('Single Label Shape', labels[0].shape,' Label Value is: ', labels[0])\n    for i in range(16):\n        img = (images[i]*255).numpy().astype('uint8')\n        ori_label = []\n        \n        for l in labels[i]:\n            ori_label.append(np.argmax(l))\n        \n        label = tf.strings.reduce_join(num_to_char(ori_label)).numpy().decode('utf-8')\n        ax[i // 4, i % 4].imshow(img[:, :, 0].T, cmap='gray')\n        ax[i // 4, i % 4].set_title(label)\n        ax[i // 4, i % 4].axis('off')\nplt.show()",
   "metadata": {
    "execution": {
     "iopub.status.busy": "2024-05-07T07:31:28.469589Z",
     "iopub.execute_input": "2024-05-07T07:31:28.470588Z",
     "iopub.status.idle": "2024-05-07T07:31:29.780847Z",
     "shell.execute_reply.started": "2024-05-07T07:31:28.470542Z",
     "shell.execute_reply": "2024-05-07T07:31:29.779691Z"
    },
    "trusted": true
   },
   "execution_count": 15,
   "outputs": []
  },
  {
   "cell_type": "markdown",
   "source": "## Model",
   "metadata": {}
  },
  {
   "cell_type": "code",
   "source": "class SqueezeLayer(layers.Layer):\n    def __init__(self, name='squeeze_layer'):\n        super().__init__(name=name)\n        pass\n        \n    def call(self, inp):\n        return tf.squeeze(inp, axis=2)",
   "metadata": {
    "execution": {
     "iopub.status.busy": "2024-05-07T07:31:57.550132Z",
     "iopub.execute_input": "2024-05-07T07:31:57.551070Z",
     "iopub.status.idle": "2024-05-07T07:31:57.557010Z",
     "shell.execute_reply.started": "2024-05-07T07:31:57.551035Z",
     "shell.execute_reply": "2024-05-07T07:31:57.555882Z"
    },
    "trusted": true
   },
   "execution_count": 16,
   "outputs": []
  },
  {
   "cell_type": "code",
   "source": "def get_model_2():\n    \n    tf.random.set_seed(108)\n    \n    img_inp = layers.Input(shape=(IMG_WIDTH, IMG_HEIGHT, 1), name='image')\n    \n    x = layers.Conv2D(filters=32, kernel_size=(3, 3), padding='same', name='conv_1')(img_inp)\n    x = layers.BatchNormalization(name=\"conv_1_bn\")(x)\n    x = layers.ReLU(name=\"conv_1_relu\")(x)\n    x = layers.MaxPooling2D(pool_size=(2, 2), name='pool_1')(x)\n    \n    x = layers.Conv2D(filters=64, kernel_size=(3, 3), padding='same', name='conv_2')(x)\n    x = layers.BatchNormalization(name=\"conv_2_bn\")(x)\n    x = layers.ReLU(name=\"conv_2_relu\")(x)\n    x = layers.MaxPooling2D(pool_size=(2, 2), name='pool_2')(x)\n    \n    x = layers.Conv2D(filters=128, kernel_size=(3, 3), padding='same', name='conv_3')(x)\n    x = layers.BatchNormalization(name=\"conv_3_bn\")(x)\n    x = layers.ReLU(name=\"conv_3_relu\")(x)\n    x = layers.MaxPooling2D(pool_size=(2, 2), name='pool_3')(x)\n    \n    x = layers.Conv2D(filters=256, kernel_size=(3, 3), padding='same', name='conv_4')(x)\n    x = layers.BatchNormalization(name=\"conv_4_bn\")(x)\n    x = layers.ReLU(name=\"conv_4_relu\")(x)\n    x = layers.MaxPooling2D(pool_size=(2, 2), name='pool_4')(x)\n    \n    x = layers.Conv2D(filters=512, kernel_size=(3, 3), padding='same', name='conv_5')(x)\n    x = layers.BatchNormalization(name=\"conv_5_bn\")(x)\n    x = layers.ReLU(name=\"conv_5_relu\")(x)\n    x = layers.MaxPooling2D(pool_size=(2, 2), name='pool_5')(x)\n\n    x = layers.GlobalAveragePooling2D()(x)\n  \n    x = layers.Dense(max_length * (len(CHARACTERS) + 4), name='dense_3')(x)\n    x = layers.BatchNormalization(name=\"dense_3_bn\")(x)\n    x = layers.ReLU(name=\"dense_3_relu\")(x)\n    x = layers.Dropout(0.5)(x)\n\n    new_shape = (max_length , len(CHARACTERS) + 4)\n    x = layers.Reshape(target_shape=new_shape, name='reshape')(x)\n    \n    x = layers.Dense(64, name='dense_4')(x)    \n    x = layers.BatchNormalization(name=\"dense_4_bn\")(x)\n    x = layers.ReLU(name=\"dense_4_relu\")(x)\n    x = layers.Dropout(0.5)(x)\n    \n    x = layers.Dense(len(CHARACTERS) + 1, name='dense_prediction')(x)\n    x = layers.BatchNormalization(name=\"prediction_bn\")(x)\n    out = layers.Activation('softmax', name='prediction')(x)\n    \n    model = tf.keras.Model(img_inp, out, name=\"OCR_Model\")\n\n    opt = tf.keras.optimizers.Adam()\n    model.compile(optimizer=opt, loss=tf.keras.losses.CategoricalCrossentropy(), metrics=['acc', tf.keras.metrics.AUC(name='auc'), ])\n    model.summary()\n    \n    return model",
   "metadata": {
    "execution": {
     "iopub.status.busy": "2024-05-07T07:32:43.206863Z",
     "iopub.execute_input": "2024-05-07T07:32:43.207570Z",
     "iopub.status.idle": "2024-05-07T07:32:43.229394Z",
     "shell.execute_reply.started": "2024-05-07T07:32:43.207527Z",
     "shell.execute_reply": "2024-05-07T07:32:43.228404Z"
    },
    "trusted": true
   },
   "execution_count": 17,
   "outputs": []
  },
  {
   "cell_type": "code",
   "source": "model_2 = get_model_2()",
   "metadata": {
    "execution": {
     "iopub.status.busy": "2024-05-07T07:32:52.015573Z",
     "iopub.execute_input": "2024-05-07T07:32:52.016246Z",
     "iopub.status.idle": "2024-05-07T07:32:52.293160Z",
     "shell.execute_reply.started": "2024-05-07T07:32:52.016215Z",
     "shell.execute_reply": "2024-05-07T07:32:52.292218Z"
    },
    "trusted": true
   },
   "execution_count": 18,
   "outputs": []
  },
  {
   "cell_type": "code",
   "source": "EPOCHS = 100\nPATIENCE = 10\ninitial_learning_rate = 0.01\n\nearly_stopping = tf.keras.callbacks.EarlyStopping(\n    monitor='val_loss', patience=PATIENCE, restore_best_weights=True)\n\n\ndef lr_step_decay(epoch, lr):\n    drop_rate = 0.5\n    epochs_drop = 10.0\n    return initial_learning_rate * math.pow(drop_rate, math.floor(epoch/epochs_drop))\n\n\nlrate = tf.keras.callbacks.LearningRateScheduler(lr_step_decay, verbose=0)\n\n\nhistory = model_2.fit(train_dataset, \n                    validation_data=valid_dataset, \n                    epochs=EPOCHS, callbacks=[lrate, early_stopping])",
   "metadata": {
    "execution": {
     "iopub.status.busy": "2024-05-07T07:43:40.398816Z",
     "iopub.execute_input": "2024-05-07T07:43:40.399226Z",
     "iopub.status.idle": "2024-05-07T08:17:04.694849Z",
     "shell.execute_reply.started": "2024-05-07T07:43:40.399187Z",
     "shell.execute_reply": "2024-05-07T08:17:04.693857Z"
    },
    "trusted": true
   },
   "execution_count": 21,
   "outputs": []
  },
  {
   "cell_type": "code",
   "source": "plt.plot(history.history['loss'])\nplt.plot(history.history['val_loss'])\n\nplt.title('OCR Model')\nplt.ylabel('Loss')\nplt.xlabel('Epochs')\nplt.legend(['Training', 'Validation'], loc='upper right')\nplt.show()",
   "metadata": {
    "execution": {
     "iopub.status.busy": "2024-05-07T08:21:34.379911Z",
     "iopub.execute_input": "2024-05-07T08:21:34.380355Z",
     "iopub.status.idle": "2024-05-07T08:21:34.693751Z",
     "shell.execute_reply.started": "2024-05-07T08:21:34.380323Z",
     "shell.execute_reply": "2024-05-07T08:21:34.692762Z"
    },
    "trusted": true
   },
   "execution_count": 22,
   "outputs": []
  },
  {
   "cell_type": "code",
   "source": "plt.plot(history.history['acc'])\nplt.plot(history.history['val_acc'])\n\nplt.title('OCR Model')\nplt.ylabel('Accuracy')\nplt.xlabel('Epochs')\nplt.legend(['Training', 'Validation'], loc='lower right')\nplt.show()",
   "metadata": {
    "execution": {
     "iopub.status.busy": "2024-05-07T08:21:39.367447Z",
     "iopub.execute_input": "2024-05-07T08:21:39.367844Z",
     "iopub.status.idle": "2024-05-07T08:21:39.691620Z",
     "shell.execute_reply.started": "2024-05-07T08:21:39.367815Z",
     "shell.execute_reply": "2024-05-07T08:21:39.690478Z"
    },
    "trusted": true
   },
   "execution_count": 23,
   "outputs": []
  },
  {
   "cell_type": "code",
   "source": "val_loss, val_acc, val_auc = model_2.evaluate(valid_dataset, verbose=0)\nprint(f'Validation Accuracy: {val_acc*100:.3f}%')",
   "metadata": {
    "execution": {
     "iopub.status.busy": "2024-05-07T08:21:45.859785Z",
     "iopub.execute_input": "2024-05-07T08:21:45.860552Z",
     "iopub.status.idle": "2024-05-07T08:21:52.742472Z",
     "shell.execute_reply.started": "2024-05-07T08:21:45.860513Z",
     "shell.execute_reply": "2024-05-07T08:21:52.741446Z"
    },
    "trusted": true
   },
   "execution_count": 24,
   "outputs": []
  },
  {
   "cell_type": "code",
   "source": "_, ax = plt.subplots(8, 4, figsize=(20, 15))\nfor batch in valid_dataset.take(1):\n    images = batch[0]\n    labels = batch[1]\n\n    preds = model_2.predict(images)\n\n    for i in range(8):\n        for j in range(4):\n            index = i*4+j\n            \n            img = (images[index]*255).numpy().astype('uint8')\n\n            ori_label = []\n            pre_label = []\n\n            for l in labels[index]:\n                ori_label.append(np.argmax(l))\n\n            for l in preds[index]:\n                pre_label.append(np.argmax(l))\n\n            \n            true_label = tf.strings.reduce_join(num_to_char(ori_label)).numpy().decode('utf-8')\n            pred_label = tf.strings.reduce_join(num_to_char(pre_label)).numpy().decode('utf-8')\n\n            if true_label == pred_label:\n                title_color = 'green'\n            else:\n                title_color = 'red'\n                \n            ax[i, j].imshow(img[:, :, 0].T, cmap='gray')\n            ax[i, j].set_title('True: '+true_label+'\\nPred: '+pred_label, color=title_color)\n            ax[i, j].axis('off')\nplt.show()",
   "metadata": {
    "execution": {
     "iopub.status.busy": "2024-05-07T08:22:10.067821Z",
     "iopub.execute_input": "2024-05-07T08:22:10.068200Z",
     "iopub.status.idle": "2024-05-07T08:22:13.851871Z",
     "shell.execute_reply.started": "2024-05-07T08:22:10.068160Z",
     "shell.execute_reply": "2024-05-07T08:22:13.850854Z"
    },
    "trusted": true
   },
   "execution_count": 25,
   "outputs": []
  },
  {
   "cell_type": "code",
   "source": "model_2.save('ocr_model.h5')",
   "metadata": {
    "execution": {
     "iopub.status.busy": "2024-05-07T08:22:42.960459Z",
     "iopub.execute_input": "2024-05-07T08:22:42.960896Z",
     "iopub.status.idle": "2024-05-07T08:22:43.081281Z",
     "shell.execute_reply.started": "2024-05-07T08:22:42.960866Z",
     "shell.execute_reply": "2024-05-07T08:22:43.080322Z"
    },
    "trusted": true
   },
   "execution_count": 26,
   "outputs": []
  },
  {
   "cell_type": "code",
   "source": "import pickle",
   "metadata": {
    "execution": {
     "iopub.status.busy": "2024-05-07T08:23:02.554604Z",
     "iopub.execute_input": "2024-05-07T08:23:02.555055Z",
     "iopub.status.idle": "2024-05-07T08:23:02.559926Z",
     "shell.execute_reply.started": "2024-05-07T08:23:02.555020Z",
     "shell.execute_reply": "2024-05-07T08:23:02.558777Z"
    },
    "trusted": true
   },
   "execution_count": 27,
   "outputs": []
  },
  {
   "cell_type": "code",
   "source": "hist_df = pd.DataFrame(history.history)",
   "metadata": {
    "execution": {
     "iopub.status.busy": "2024-05-07T08:23:05.409597Z",
     "iopub.execute_input": "2024-05-07T08:23:05.410002Z",
     "iopub.status.idle": "2024-05-07T08:23:05.417696Z",
     "shell.execute_reply.started": "2024-05-07T08:23:05.409971Z",
     "shell.execute_reply": "2024-05-07T08:23:05.416620Z"
    },
    "trusted": true
   },
   "execution_count": 28,
   "outputs": []
  },
  {
   "cell_type": "code",
   "source": "hist_csv_file = 'ocr_history.csv'\nwith open(hist_csv_file, mode='w') as f:\n    hist_df.to_csv(f)",
   "metadata": {
    "execution": {
     "iopub.status.busy": "2024-05-07T08:23:13.065514Z",
     "iopub.execute_input": "2024-05-07T08:23:13.066453Z",
     "iopub.status.idle": "2024-05-07T08:23:13.075139Z",
     "shell.execute_reply.started": "2024-05-07T08:23:13.066402Z",
     "shell.execute_reply": "2024-05-07T08:23:13.074221Z"
    },
    "trusted": true
   },
   "execution_count": 29,
   "outputs": []
  },
  {
   "cell_type": "code",
   "source": "old_hist = pd.read_csv('./ocr_history.csv')",
   "metadata": {
    "execution": {
     "iopub.status.busy": "2024-05-07T08:23:15.229243Z",
     "iopub.execute_input": "2024-05-07T08:23:15.229898Z",
     "iopub.status.idle": "2024-05-07T08:23:15.240287Z",
     "shell.execute_reply.started": "2024-05-07T08:23:15.229846Z",
     "shell.execute_reply": "2024-05-07T08:23:15.239018Z"
    },
    "trusted": true
   },
   "execution_count": 30,
   "outputs": []
  },
  {
   "cell_type": "code",
   "source": "plt.plot(old_hist['loss'])\nplt.plot(old_hist['val_loss'])\n\nplt.title('OCR Model')\nplt.ylabel('Loss')\nplt.xlabel('Epochs')\nplt.legend(['Training', 'Validation'], loc='upper right')\nplt.show()",
   "metadata": {
    "execution": {
     "iopub.status.busy": "2024-05-07T08:23:18.129430Z",
     "iopub.execute_input": "2024-05-07T08:23:18.129818Z",
     "iopub.status.idle": "2024-05-07T08:23:18.444387Z",
     "shell.execute_reply.started": "2024-05-07T08:23:18.129791Z",
     "shell.execute_reply": "2024-05-07T08:23:18.443099Z"
    },
    "trusted": true
   },
   "execution_count": 31,
   "outputs": []
  },
  {
   "cell_type": "code",
   "source": "plt.plot(old_hist['acc'])\nplt.plot(old_hist['val_acc'])\n\nplt.title('OCR Model')\nplt.ylabel('Accuracy')\nplt.xlabel('Epochs')\nplt.legend(['Training', 'Validation'], loc='lower right')\nplt.show()",
   "metadata": {
    "execution": {
     "iopub.status.busy": "2024-05-07T08:23:23.626911Z",
     "iopub.execute_input": "2024-05-07T08:23:23.627350Z",
     "iopub.status.idle": "2024-05-07T08:23:23.945527Z",
     "shell.execute_reply.started": "2024-05-07T08:23:23.627317Z",
     "shell.execute_reply": "2024-05-07T08:23:23.944472Z"
    },
    "trusted": true
   },
   "execution_count": 32,
   "outputs": []
  }
 ]
}
