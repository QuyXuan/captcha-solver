{
 "metadata": {
  "kernelspec": {
   "language": "python",
   "display_name": "Python 3",
   "name": "python3"
  },
  "language_info": {
   "name": "python",
   "version": "3.10.13",
   "mimetype": "text/x-python",
   "codemirror_mode": {
    "name": "ipython",
    "version": 3
   },
   "pygments_lexer": "ipython3",
   "nbconvert_exporter": "python",
   "file_extension": ".py"
  },
  "kaggle": {
   "accelerator": "nvidiaTeslaT4",
   "dataSources": [
    {
     "sourceId": 8461294,
     "sourceType": "datasetVersion",
     "datasetId": 5043879
    },
    {
     "sourceId": 8461319,
     "sourceType": "datasetVersion",
     "datasetId": 5043897
    }
   ],
   "dockerImageVersionId": 30699,
   "isInternetEnabled": true,
   "language": "python",
   "sourceType": "notebook",
   "isGpuEnabled": true
  }
 },
 "nbformat_minor": 4,
 "nbformat": 4,
 "cells": [
  {
   "cell_type": "code",
   "source": "import numpy as np\nimport pandas as pd\nimport tensorflow as tf\nfrom tensorflow.keras import layers\nimport matplotlib.pyplot as plt\n\nfrom pathlib import Path\nfrom collections import Counter\nimport os\nimport math",
   "metadata": {
    "execution": {
     "iopub.status.busy": "2024-05-19T20:44:19.471927Z",
     "iopub.execute_input": "2024-05-19T20:44:19.472343Z",
     "iopub.status.idle": "2024-05-19T20:44:33.844614Z",
     "shell.execute_reply.started": "2024-05-19T20:44:19.472275Z",
     "shell.execute_reply": "2024-05-19T20:44:33.843709Z"
    },
    "trusted": true
   },
   "execution_count": 1,
   "outputs": []
  },
  {
   "cell_type": "code",
   "source": "import logging\ntf.get_logger().setLevel(logging.ERROR)",
   "metadata": {
    "execution": {
     "iopub.status.busy": "2024-05-19T20:44:35.459120Z",
     "iopub.execute_input": "2024-05-19T20:44:35.460447Z",
     "iopub.status.idle": "2024-05-19T20:44:35.465122Z",
     "shell.execute_reply.started": "2024-05-19T20:44:35.460412Z",
     "shell.execute_reply": "2024-05-19T20:44:35.464066Z"
    },
    "trusted": true
   },
   "execution_count": 2,
   "outputs": []
  },
  {
   "cell_type": "code",
   "source": "BASE_DIR = Path('/kaggle/input/captchafull/captcha_all_full')\nTEST_DIR = Path('/kaggle/input/captchatestfull/captcha_test')\n\nIMAGES = sorted(list(map(str, list(BASE_DIR.glob('*.png')))))\nLABELS = [img.split(os.path.sep)[-1].split('.png')[0] for img in IMAGES]\nTEST_IMAGES = sorted(list(map(str, list(TEST_DIR.glob('*.png')))))\nTEST_LABELS = [img.split(os.path.sep)[-1].split('.png')[0] for img in TEST_IMAGES]\nCHARACTERS = set(char for LABEL in LABELS for char in LABEL)\n\nprint(f'Number of Images found: {len(IMAGES)}')\nprint(f'Number of Labels found: {len(LABELS)}')\nprint(f'Number of Unique Characters found: {len(CHARACTERS)}')\nprint(f'Character List: {CHARACTERS}')",
   "metadata": {
    "execution": {
     "iopub.status.busy": "2024-05-19T20:44:41.058491Z",
     "iopub.execute_input": "2024-05-19T20:44:41.059146Z",
     "iopub.status.idle": "2024-05-19T20:44:42.940763Z",
     "shell.execute_reply.started": "2024-05-19T20:44:41.059100Z",
     "shell.execute_reply": "2024-05-19T20:44:42.939764Z"
    },
    "trusted": true
   },
   "execution_count": 3,
   "outputs": []
  },
  {
   "cell_type": "code",
   "source": "IMAGES[0], LABELS[0]",
   "metadata": {
    "execution": {
     "iopub.status.busy": "2024-05-19T20:45:37.454209Z",
     "iopub.execute_input": "2024-05-19T20:45:37.454991Z",
     "iopub.status.idle": "2024-05-19T20:45:37.462382Z",
     "shell.execute_reply.started": "2024-05-19T20:45:37.454956Z",
     "shell.execute_reply": "2024-05-19T20:45:37.461349Z"
    },
    "trusted": true
   },
   "execution_count": 4,
   "outputs": []
  },
  {
   "cell_type": "code",
   "source": "BATCH_SIZE = 32\nBUFFER_SIZE = 1000\n\nIMG_WIDTH, IMG_HEIGHT = 150, 40\ndownsample_factor = 4\nmax_length = max([len(label) for label in LABELS])\nMAX_CHARS = len(CHARACTERS)\nmax_length",
   "metadata": {
    "execution": {
     "iopub.status.busy": "2024-05-19T20:45:40.443251Z",
     "iopub.execute_input": "2024-05-19T20:45:40.443673Z",
     "iopub.status.idle": "2024-05-19T20:45:40.462084Z",
     "shell.execute_reply.started": "2024-05-19T20:45:40.443639Z",
     "shell.execute_reply": "2024-05-19T20:45:40.460762Z"
    },
    "trusted": true
   },
   "execution_count": 5,
   "outputs": []
  },
  {
   "cell_type": "markdown",
   "source": "## Data Pre-Processing",
   "metadata": {}
  },
  {
   "cell_type": "code",
   "source": "char_to_num = layers.StringLookup(vocabulary=list(CHARACTERS),\n                                  num_oov_indices=0,\n                                  mask_token=None)\n\nnum_to_char = layers.StringLookup(vocabulary=char_to_num.get_vocabulary(), \n                                  mask_token=None, \n                                  num_oov_indices=0,\n                                  invert=True)",
   "metadata": {
    "execution": {
     "iopub.status.busy": "2024-05-19T20:45:42.592684Z",
     "iopub.execute_input": "2024-05-19T20:45:42.593069Z",
     "iopub.status.idle": "2024-05-19T20:45:43.508035Z",
     "shell.execute_reply.started": "2024-05-19T20:45:42.593039Z",
     "shell.execute_reply": "2024-05-19T20:45:43.507085Z"
    },
    "trusted": true
   },
   "execution_count": 6,
   "outputs": []
  },
  {
   "cell_type": "code",
   "source": "def split_data(images, labels, train_size=0.8, shuffle=True):\n    size = len(images)\n    \n    indices = np.arange(size)\n    \n    if shuffle:\n        np.random.shuffle(indices)\n        \n    train_samples = int(size * train_size)\n    \n    x_train, y_train = images[indices[:train_samples]], labels[indices[:train_samples]]\n    x_valid, y_valid = images[indices[train_samples:]], labels[indices[train_samples:]]\n    \n    return x_train, x_valid, y_train, y_valid",
   "metadata": {
    "execution": {
     "iopub.status.busy": "2024-05-19T20:45:44.554234Z",
     "iopub.execute_input": "2024-05-19T20:45:44.554993Z",
     "iopub.status.idle": "2024-05-19T20:45:44.562053Z",
     "shell.execute_reply.started": "2024-05-19T20:45:44.554959Z",
     "shell.execute_reply": "2024-05-19T20:45:44.560959Z"
    },
    "trusted": true
   },
   "execution_count": 7,
   "outputs": []
  },
  {
   "cell_type": "code",
   "source": "def encode_single_sample(image_path, label):\n    img = tf.io.read_file(image_path)\n    img = tf.io.decode_jpeg(img, channels=1)\n    img = tf.image.convert_image_dtype(img, tf.float32)\n    img = tf.image.resize(img, [IMG_HEIGHT, IMG_WIDTH])\n    img = tf.image.random_brightness(img, max_delta=0.2)\n    img = tf.image.random_contrast(img, lower=0.8, upper=1.2)\n    img = tf.transpose(img, perm=[1, 0, 2])\n    label = char_to_num(tf.strings.unicode_split(label, input_encoding=\"UTF-8\"))\n    label = tf.one_hot(indices=label, depth=MAX_CHARS+1)\n    return img, label",
   "metadata": {
    "execution": {
     "iopub.status.busy": "2024-05-19T20:45:46.137558Z",
     "iopub.execute_input": "2024-05-19T20:45:46.137943Z",
     "iopub.status.idle": "2024-05-19T20:45:46.146614Z",
     "shell.execute_reply.started": "2024-05-19T20:45:46.137917Z",
     "shell.execute_reply": "2024-05-19T20:45:46.145354Z"
    },
    "trusted": true
   },
   "execution_count": 8,
   "outputs": []
  },
  {
   "cell_type": "code",
   "source": "X_train, X_valid, y_train, y_valid = split_data(np.array(IMAGES), np.array(LABELS))",
   "metadata": {
    "execution": {
     "iopub.status.busy": "2024-05-19T20:45:48.208742Z",
     "iopub.execute_input": "2024-05-19T20:45:48.209713Z",
     "iopub.status.idle": "2024-05-19T20:45:48.333027Z",
     "shell.execute_reply.started": "2024-05-19T20:45:48.209669Z",
     "shell.execute_reply": "2024-05-19T20:45:48.332170Z"
    },
    "trusted": true
   },
   "execution_count": 9,
   "outputs": []
  },
  {
   "cell_type": "code",
   "source": "X_train[0], y_train[0], tf.strings.reduce_join(num_to_char(char_to_num(tf.strings.unicode_split(y_train[0], input_encoding=\"UTF-8\")))).numpy().decode('utf-8')",
   "metadata": {
    "execution": {
     "iopub.status.busy": "2024-05-19T20:45:49.426142Z",
     "iopub.execute_input": "2024-05-19T20:45:49.427036Z",
     "iopub.status.idle": "2024-05-19T20:45:49.519913Z",
     "shell.execute_reply.started": "2024-05-19T20:45:49.427004Z",
     "shell.execute_reply": "2024-05-19T20:45:49.518963Z"
    },
    "trusted": true
   },
   "execution_count": 10,
   "outputs": []
  },
  {
   "cell_type": "code",
   "source": "train_dataset = tf.data.Dataset.from_tensor_slices((X_train, y_train))\ntrain_dataset = (\n    train_dataset.map(encode_single_sample, \n                      num_parallel_calls=tf.data.AUTOTUNE)\n    .batch(BATCH_SIZE)\n    .prefetch(buffer_size=tf.data.AUTOTUNE)\n)\n\nvalid_dataset = tf.data.Dataset.from_tensor_slices((X_valid, y_valid))\nvalid_dataset = (\n    valid_dataset.map(encode_single_sample, \n                      num_parallel_calls=tf.data.AUTOTUNE)\n    .batch(BATCH_SIZE)\n    .prefetch(buffer_size=tf.data.AUTOTUNE)\n)\n\ntest_dataset = tf.data.Dataset.from_tensor_slices((TEST_IMAGES, TEST_LABELS))\ntest_dataset = (\n    test_dataset.map(encode_single_sample, num_parallel_calls=tf.data.AUTOTUNE)\n    .batch(BATCH_SIZE)\n    .prefetch(buffer_size=tf.data.AUTOTUNE)\n)",
   "metadata": {
    "execution": {
     "iopub.status.busy": "2024-05-19T20:45:51.025964Z",
     "iopub.execute_input": "2024-05-19T20:45:51.026342Z",
     "iopub.status.idle": "2024-05-19T20:45:51.445026Z",
     "shell.execute_reply.started": "2024-05-19T20:45:51.026305Z",
     "shell.execute_reply": "2024-05-19T20:45:51.443994Z"
    },
    "trusted": true
   },
   "execution_count": 11,
   "outputs": []
  },
  {
   "cell_type": "code",
   "source": "_, ax = plt.subplots(4, 4, figsize=(10, 5))\nfor batch in train_dataset.take(1):\n        \n#    images = batch['image']\n#    labels = batch['label']\n    images = batch[0]\n    labels = batch[1]\n    # print(batch[1].shape)\n    # print('Single Label Shape', labels[0].shape,' Label Value is: ', labels[0])\n    for i in range(16):\n        img = (images[i]*255).numpy().astype('uint8')\n        ori_label = []\n        \n        for l in labels[i]:\n            ori_label.append(np.argmax(l))\n        \n        label = tf.strings.reduce_join(num_to_char(ori_label)).numpy().decode('utf-8')\n        ax[i // 4, i % 4].imshow(img[:, :, 0].T, cmap='gray')\n        ax[i // 4, i % 4].set_title(label)\n        ax[i // 4, i % 4].axis('off')\nplt.show()",
   "metadata": {
    "execution": {
     "iopub.status.busy": "2024-05-19T20:45:53.819872Z",
     "iopub.execute_input": "2024-05-19T20:45:53.820227Z",
     "iopub.status.idle": "2024-05-19T20:45:55.145255Z",
     "shell.execute_reply.started": "2024-05-19T20:45:53.820201Z",
     "shell.execute_reply": "2024-05-19T20:45:55.144326Z"
    },
    "trusted": true
   },
   "execution_count": 12,
   "outputs": []
  },
  {
   "cell_type": "markdown",
   "source": "## Model",
   "metadata": {}
  },
  {
   "cell_type": "code",
   "source": "class SqueezeLayer(layers.Layer):\n    def __init__(self, name='squeeze_layer'):\n        super().__init__(name=name)\n        pass\n        \n    def call(self, inp):\n        return tf.squeeze(inp, axis=2)",
   "metadata": {
    "execution": {
     "iopub.status.busy": "2024-05-19T20:45:59.115438Z",
     "iopub.execute_input": "2024-05-19T20:45:59.115819Z",
     "iopub.status.idle": "2024-05-19T20:45:59.121813Z",
     "shell.execute_reply.started": "2024-05-19T20:45:59.115790Z",
     "shell.execute_reply": "2024-05-19T20:45:59.120733Z"
    },
    "trusted": true
   },
   "execution_count": 14,
   "outputs": []
  },
  {
   "cell_type": "code",
   "source": "initial_learning_rate = 0.001",
   "metadata": {
    "execution": {
     "iopub.status.busy": "2024-05-19T20:46:01.372944Z",
     "iopub.execute_input": "2024-05-19T20:46:01.373846Z",
     "iopub.status.idle": "2024-05-19T20:46:01.378348Z",
     "shell.execute_reply.started": "2024-05-19T20:46:01.373811Z",
     "shell.execute_reply": "2024-05-19T20:46:01.377279Z"
    },
    "trusted": true
   },
   "execution_count": 15,
   "outputs": []
  },
  {
   "cell_type": "code",
   "source": "def get_model_2():\n    tf.random.set_seed(108)\n    img_inp = layers.Input(shape=(IMG_WIDTH, IMG_HEIGHT, 1), name='image')\n    x = layers.Conv2D(filters=32, kernel_size=(3, 3), padding='same', name='conv_1')(img_inp)\n    x = layers.BatchNormalization(name=\"conv_1_bn\")(x)\n    x = layers.ReLU(name=\"conv_1_relu\")(x)\n    x = layers.MaxPooling2D(pool_size=(2, 2), name='pool_1')(x)\n    \n    x = layers.Conv2D(filters=64, kernel_size=(3, 3), padding='same', name='conv_2')(x)\n    x = layers.BatchNormalization(name=\"conv_2_bn\")(x)\n    x = layers.ReLU(name=\"conv_2_relu\")(x)\n    x = layers.MaxPooling2D(pool_size=(2, 2), name='pool_2')(x)\n    \n    x = layers.Conv2D(filters=128, kernel_size=(3, 3), padding='same', name='conv_3')(x)\n    x = layers.BatchNormalization(name=\"conv_3_bn\")(x)\n    x = layers.ReLU(name=\"conv_3_relu\")(x)\n    x = layers.MaxPooling2D(pool_size=(2, 2), name='pool_3')(x)\n    \n    x = layers.Conv2D(filters=256, kernel_size=(3, 3), padding='same', name='conv_4')(x)\n    x = layers.BatchNormalization(name=\"conv_4_bn\")(x)\n    x = layers.ReLU(name=\"conv_4_relu\")(x)\n    x = layers.MaxPooling2D(pool_size=(2, 2), name='pool_4')(x)\n    \n    x = layers.Conv2D(filters=512, kernel_size=(3, 3), padding='same', name='conv_5')(x)\n    x = layers.BatchNormalization(name=\"conv_5_bn\")(x)\n    x = layers.ReLU(name=\"conv_5_relu\")(x)\n    x = layers.MaxPooling2D(pool_size=(2, 2), name='pool_5')(x)\n    \n    x = layers.GlobalAveragePooling2D()(x)\n    \n    x = layers.Dense(1024, name='dense_1')(x)\n    x = layers.BatchNormalization(name=\"dense_1_bn\")(x)\n    x = layers.ReLU(name=\"dense_1_relu\")(x)\n    x = layers.Dropout(0.5)(x)\n    \n    x = layers.Dense(max_length * (len(CHARACTERS) + 1), name='dense_2')(x)\n    x = layers.Reshape((max_length, len(CHARACTERS) + 1))(x)\n    out = layers.Activation('softmax', name='softmax')(x)\n    \n    model = tf.keras.Model(img_inp, out, name=\"OCR_Model\")\n    opt = tf.keras.optimizers.Adam(learning_rate=initial_learning_rate)\n    model.compile(optimizer=opt, loss='categorical_crossentropy', metrics=['accuracy'])\n    model.summary()\n    return model",
   "metadata": {
    "execution": {
     "iopub.status.busy": "2024-05-19T20:46:03.626429Z",
     "iopub.execute_input": "2024-05-19T20:46:03.627219Z",
     "iopub.status.idle": "2024-05-19T20:46:03.643423Z",
     "shell.execute_reply.started": "2024-05-19T20:46:03.627186Z",
     "shell.execute_reply": "2024-05-19T20:46:03.642304Z"
    },
    "trusted": true
   },
   "execution_count": 16,
   "outputs": []
  },
  {
   "cell_type": "code",
   "source": "EPOCHS = 100\nPATIENCE = 10\n\nearly_stopping = tf.keras.callbacks.EarlyStopping(\n    monitor='val_loss', patience=PATIENCE, restore_best_weights=True)\n\ndef lr_step_decay(epoch, lr):\n    drop_rate = 0.5\n    epochs_drop = 10.0\n    return initial_learning_rate * math.pow(drop_rate, math.floor(epoch/epochs_drop))\n\nlrate = tf.keras.callbacks.LearningRateScheduler(lr_step_decay, verbose=1)\n\nmodel = get_model_2()\nhistory = model.fit(\n    train_dataset,\n    validation_data=valid_dataset,\n    epochs=EPOCHS,\n    callbacks=[early_stopping, lrate]\n)",
   "metadata": {
    "execution": {
     "iopub.status.busy": "2024-05-19T20:46:07.349484Z",
     "iopub.execute_input": "2024-05-19T20:46:07.349868Z",
     "iopub.status.idle": "2024-05-19T21:15:48.392847Z",
     "shell.execute_reply.started": "2024-05-19T20:46:07.349837Z",
     "shell.execute_reply": "2024-05-19T21:15:48.391876Z"
    },
    "trusted": true
   },
   "execution_count": 17,
   "outputs": []
  },
  {
   "cell_type": "code",
   "source": "plt.plot(history.history['loss'])\nplt.plot(history.history['val_loss'])\n\nplt.title('OCR Model')\nplt.ylabel('Loss')\nplt.xlabel('Epochs')\nplt.legend(['Training', 'Validation'], loc='upper right')\nplt.show()",
   "metadata": {
    "execution": {
     "iopub.status.busy": "2024-05-19T21:16:49.413414Z",
     "iopub.execute_input": "2024-05-19T21:16:49.414114Z",
     "iopub.status.idle": "2024-05-19T21:16:49.713299Z",
     "shell.execute_reply.started": "2024-05-19T21:16:49.414075Z",
     "shell.execute_reply": "2024-05-19T21:16:49.712332Z"
    },
    "trusted": true
   },
   "execution_count": 18,
   "outputs": []
  },
  {
   "cell_type": "code",
   "source": "plt.plot(history.history['accuracy'])\nplt.plot(history.history['val_accuracy'])\n\nplt.title('OCR Model')\nplt.ylabel('Accuracy')\nplt.xlabel('Epochs')\nplt.legend(['Training', 'Validation'], loc='lower right')\nplt.show()",
   "metadata": {
    "execution": {
     "iopub.status.busy": "2024-05-19T21:16:52.359997Z",
     "iopub.execute_input": "2024-05-19T21:16:52.360359Z",
     "iopub.status.idle": "2024-05-19T21:16:52.706502Z",
     "shell.execute_reply.started": "2024-05-19T21:16:52.360326Z",
     "shell.execute_reply": "2024-05-19T21:16:52.704255Z"
    },
    "trusted": true
   },
   "execution_count": 19,
   "outputs": []
  },
  {
   "cell_type": "code",
   "source": "val_loss, val_acc = model.evaluate(valid_dataset, verbose=0)\nprint(f'Validation Accuracy: {val_acc*100:.3f}%')",
   "metadata": {
    "execution": {
     "iopub.status.busy": "2024-05-19T21:16:56.738661Z",
     "iopub.execute_input": "2024-05-19T21:16:56.739602Z",
     "iopub.status.idle": "2024-05-19T21:17:04.276971Z",
     "shell.execute_reply.started": "2024-05-19T21:16:56.739553Z",
     "shell.execute_reply": "2024-05-19T21:17:04.276032Z"
    },
    "trusted": true
   },
   "execution_count": 20,
   "outputs": []
  },
  {
   "cell_type": "code",
   "source": "def plot_predict_captcha(dataset):\n    _, ax = plt.subplots(8, 4, figsize=(20, 15))\n    for batch in valid_dataset.take(1):\n        images, labels = batch\n        preds = model.predict(images)\n\n        for i in range(8):\n            for j in range(4):\n                index = i*4 + j\n\n                img = (images[index]*255).numpy().astype('uint8')\n\n                ori_label = tf.argmax(labels[index], axis=1)\n                pred_label = tf.argmax(preds[index], axis=1)\n\n                true_label = tf.strings.reduce_join(num_to_char(ori_label)).numpy().decode('utf-8')\n                pred_label = tf.strings.reduce_join(num_to_char(pred_label)).numpy().decode('utf-8')\n\n                title_color = 'green' if true_label == pred_label else 'red'\n\n                ax[i, j].imshow(img[:, :, 0].T, cmap='gray')\n                ax[i, j].set_title(f'True: {true_label}\\nPred: {pred_label}', color=title_color)\n                ax[i, j].axis('off')\n    plt.show()",
   "metadata": {
    "execution": {
     "iopub.status.busy": "2024-05-19T21:17:07.251156Z",
     "iopub.execute_input": "2024-05-19T21:17:07.252013Z",
     "iopub.status.idle": "2024-05-19T21:17:07.263342Z",
     "shell.execute_reply.started": "2024-05-19T21:17:07.251978Z",
     "shell.execute_reply": "2024-05-19T21:17:07.262433Z"
    },
    "trusted": true
   },
   "execution_count": 21,
   "outputs": []
  },
  {
   "cell_type": "code",
   "source": "plot_predict_captcha(valid_dataset)",
   "metadata": {
    "execution": {
     "iopub.status.busy": "2024-05-19T21:17:10.295487Z",
     "iopub.execute_input": "2024-05-19T21:17:10.296334Z",
     "iopub.status.idle": "2024-05-19T21:17:13.674411Z",
     "shell.execute_reply.started": "2024-05-19T21:17:10.296302Z",
     "shell.execute_reply": "2024-05-19T21:17:13.673460Z"
    },
    "trusted": true
   },
   "execution_count": 22,
   "outputs": []
  },
  {
   "cell_type": "code",
   "source": "model.save('ocr_letter_number_model_v4.h5')",
   "metadata": {
    "execution": {
     "iopub.status.busy": "2024-05-19T21:17:25.368545Z",
     "iopub.execute_input": "2024-05-19T21:17:25.368894Z",
     "iopub.status.idle": "2024-05-19T21:17:25.493526Z",
     "shell.execute_reply.started": "2024-05-19T21:17:25.368866Z",
     "shell.execute_reply": "2024-05-19T21:17:25.492436Z"
    },
    "trusted": true
   },
   "execution_count": 23,
   "outputs": []
  },
  {
   "cell_type": "code",
   "source": "val_loss, val_acc = model.evaluate(test_dataset, verbose=0)\nprint(f'Test Accuracy: {val_acc*100:.3f}%')",
   "metadata": {
    "execution": {
     "iopub.status.busy": "2024-05-19T21:17:28.669237Z",
     "iopub.execute_input": "2024-05-19T21:17:28.669611Z",
     "iopub.status.idle": "2024-05-19T21:17:30.109516Z",
     "shell.execute_reply.started": "2024-05-19T21:17:28.669582Z",
     "shell.execute_reply": "2024-05-19T21:17:30.108541Z"
    },
    "trusted": true
   },
   "execution_count": 24,
   "outputs": []
  },
  {
   "cell_type": "code",
   "source": "plot_predict_captcha(test_dataset)",
   "metadata": {
    "execution": {
     "iopub.status.busy": "2024-05-19T21:17:32.807797Z",
     "iopub.execute_input": "2024-05-19T21:17:32.808600Z",
     "iopub.status.idle": "2024-05-19T21:17:35.303055Z",
     "shell.execute_reply.started": "2024-05-19T21:17:32.808565Z",
     "shell.execute_reply": "2024-05-19T21:17:35.301897Z"
    },
    "trusted": true
   },
   "execution_count": 25,
   "outputs": []
  }
 ]
}
