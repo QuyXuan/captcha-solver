{
 "metadata": {
  "kernelspec": {
   "language": "python",
   "display_name": "Python 3",
   "name": "python3"
  },
  "language_info": {
   "name": "python",
   "version": "3.10.13",
   "mimetype": "text/x-python",
   "codemirror_mode": {
    "name": "ipython",
    "version": 3
   },
   "pygments_lexer": "ipython3",
   "nbconvert_exporter": "python",
   "file_extension": ".py"
  },
  "kaggle": {
   "accelerator": "nvidiaTeslaT4",
   "dataSources": [
    {
     "sourceId": 8454404,
     "sourceType": "datasetVersion",
     "datasetId": 5038665
    },
    {
     "sourceId": 8459355,
     "sourceType": "datasetVersion",
     "datasetId": 5042361
    }
   ],
   "dockerImageVersionId": 30699,
   "isInternetEnabled": true,
   "language": "python",
   "sourceType": "notebook",
   "isGpuEnabled": true
  }
 },
 "nbformat_minor": 4,
 "nbformat": 4,
 "cells": [
  {
   "cell_type": "code",
   "source": "import numpy as np\nimport pandas as pd\nimport tensorflow as tf\nfrom tensorflow.keras import layers\nimport matplotlib.pyplot as plt\n\nfrom pathlib import Path\nfrom collections import Counter\nimport os\nimport math",
   "metadata": {
    "execution": {
     "iopub.status.busy": "2024-05-19T15:47:41.570345Z",
     "iopub.execute_input": "2024-05-19T15:47:41.571331Z",
     "iopub.status.idle": "2024-05-19T15:47:41.577430Z",
     "shell.execute_reply.started": "2024-05-19T15:47:41.571295Z",
     "shell.execute_reply": "2024-05-19T15:47:41.576475Z"
    },
    "trusted": true
   },
   "execution_count": 2,
   "outputs": []
  },
  {
   "cell_type": "code",
   "source": "import logging\ntf.get_logger().setLevel(logging.ERROR)",
   "metadata": {
    "execution": {
     "iopub.status.busy": "2024-05-19T15:47:44.175707Z",
     "iopub.execute_input": "2024-05-19T15:47:44.176517Z",
     "iopub.status.idle": "2024-05-19T15:47:44.180869Z",
     "shell.execute_reply.started": "2024-05-19T15:47:44.176487Z",
     "shell.execute_reply": "2024-05-19T15:47:44.179750Z"
    },
    "trusted": true
   },
   "execution_count": 3,
   "outputs": []
  },
  {
   "cell_type": "code",
   "source": "BASE_DIR = Path('/kaggle/input/asciilowercasedigits/captcha_full')\nTEST_DIR = Path('/kaggle/input/captchatest/captcha_test')\n\nIMAGES = sorted(list(map(str, list(BASE_DIR.glob('*.png')))))\nLABELS = [img.split(os.path.sep)[-1].split('.png')[0] for img in IMAGES]\nTEST_IMAGES = sorted(list(map(str, list(TEST_DIR.glob('*.png')))))\nTEST_LABELS = [img.split(os.path.sep)[-1].split('.png')[0] for img in TEST_IMAGES]\nCHARACTERS = set(char for LABEL in LABELS for char in LABEL)\n\nprint(f'Number of Images found: {len(IMAGES)}')\nprint(f'Number of Labels found: {len(LABELS)}')\nprint(f'Number of Unique Characters found: {len(CHARACTERS)}')\nprint(f'Character List: {CHARACTERS}')",
   "metadata": {
    "execution": {
     "iopub.status.busy": "2024-05-19T15:47:46.317155Z",
     "iopub.execute_input": "2024-05-19T15:47:46.317743Z",
     "iopub.status.idle": "2024-05-19T15:47:50.674083Z",
     "shell.execute_reply.started": "2024-05-19T15:47:46.317707Z",
     "shell.execute_reply": "2024-05-19T15:47:50.673140Z"
    },
    "trusted": true
   },
   "execution_count": 4,
   "outputs": []
  },
  {
   "cell_type": "code",
   "source": "IMAGES[0], LABELS[0]",
   "metadata": {
    "execution": {
     "iopub.status.busy": "2024-05-19T15:47:55.338704Z",
     "iopub.execute_input": "2024-05-19T15:47:55.339062Z",
     "iopub.status.idle": "2024-05-19T15:47:55.345117Z",
     "shell.execute_reply.started": "2024-05-19T15:47:55.339034Z",
     "shell.execute_reply": "2024-05-19T15:47:55.344144Z"
    },
    "trusted": true
   },
   "execution_count": 5,
   "outputs": []
  },
  {
   "cell_type": "code",
   "source": "BATCH_SIZE = 32\nBUFFER_SIZE = 1000\n\nIMG_WIDTH, IMG_HEIGHT = 150, 40\ndownsample_factor = 4\nmax_length = max([len(label) for label in LABELS])\nMAX_CHARS = len(CHARACTERS)\nmax_length",
   "metadata": {
    "execution": {
     "iopub.status.busy": "2024-05-19T15:47:57.669638Z",
     "iopub.execute_input": "2024-05-19T15:47:57.670020Z",
     "iopub.status.idle": "2024-05-19T15:47:57.685461Z",
     "shell.execute_reply.started": "2024-05-19T15:47:57.669993Z",
     "shell.execute_reply": "2024-05-19T15:47:57.684462Z"
    },
    "trusted": true
   },
   "execution_count": 6,
   "outputs": []
  },
  {
   "cell_type": "markdown",
   "source": "## Data Pre-Processing",
   "metadata": {}
  },
  {
   "cell_type": "code",
   "source": "char_to_num = layers.StringLookup(vocabulary=list(CHARACTERS),\n                                  num_oov_indices=0,\n                                  mask_token=None)\n\nnum_to_char = layers.StringLookup(vocabulary=char_to_num.get_vocabulary(), \n                                  mask_token=None, \n                                  num_oov_indices=0,\n                                  invert=True)",
   "metadata": {
    "execution": {
     "iopub.status.busy": "2024-05-19T15:48:01.072000Z",
     "iopub.execute_input": "2024-05-19T15:48:01.072886Z",
     "iopub.status.idle": "2024-05-19T15:48:01.786331Z",
     "shell.execute_reply.started": "2024-05-19T15:48:01.072850Z",
     "shell.execute_reply": "2024-05-19T15:48:01.785560Z"
    },
    "trusted": true
   },
   "execution_count": 7,
   "outputs": []
  },
  {
   "cell_type": "code",
   "source": "def split_data(images, labels, train_size=0.8, shuffle=True):\n    size = len(images)\n    \n    indices = np.arange(size)\n    \n    if shuffle:\n        np.random.shuffle(indices)\n        \n    train_samples = int(size * train_size)\n    \n    x_train, y_train = images[indices[:train_samples]], labels[indices[:train_samples]]\n    x_valid, y_valid = images[indices[train_samples:]], labels[indices[train_samples:]]\n    \n    return x_train, x_valid, y_train, y_valid",
   "metadata": {
    "execution": {
     "iopub.status.busy": "2024-05-19T15:48:04.235487Z",
     "iopub.execute_input": "2024-05-19T15:48:04.235882Z",
     "iopub.status.idle": "2024-05-19T15:48:04.242729Z",
     "shell.execute_reply.started": "2024-05-19T15:48:04.235853Z",
     "shell.execute_reply": "2024-05-19T15:48:04.241762Z"
    },
    "trusted": true
   },
   "execution_count": 8,
   "outputs": []
  },
  {
   "cell_type": "code",
   "source": "def encode_single_sample(image_path, label):\n    img = tf.io.read_file(image_path)\n    img = tf.io.decode_jpeg(img, channels=1)\n    img = tf.image.convert_image_dtype(img, tf.float32)\n    img = tf.image.resize(img, [IMG_HEIGHT, IMG_WIDTH])\n    img = tf.image.random_brightness(img, max_delta=0.2)\n    img = tf.image.random_contrast(img, lower=0.8, upper=1.2)\n    img = tf.transpose(img, perm=[1, 0, 2])\n    label = char_to_num(tf.strings.unicode_split(label, input_encoding=\"UTF-8\"))\n    label = tf.one_hot(indices=label, depth=MAX_CHARS+1)\n    return img, label",
   "metadata": {
    "execution": {
     "iopub.status.busy": "2024-05-19T15:48:06.793302Z",
     "iopub.execute_input": "2024-05-19T15:48:06.793648Z",
     "iopub.status.idle": "2024-05-19T15:48:06.800585Z",
     "shell.execute_reply.started": "2024-05-19T15:48:06.793622Z",
     "shell.execute_reply": "2024-05-19T15:48:06.799560Z"
    },
    "trusted": true
   },
   "execution_count": 9,
   "outputs": []
  },
  {
   "cell_type": "code",
   "source": "X_train, X_valid, y_train, y_valid = split_data(np.array(IMAGES), np.array(LABELS))",
   "metadata": {
    "execution": {
     "iopub.status.busy": "2024-05-19T15:48:09.685513Z",
     "iopub.execute_input": "2024-05-19T15:48:09.685839Z",
     "iopub.status.idle": "2024-05-19T15:48:09.809176Z",
     "shell.execute_reply.started": "2024-05-19T15:48:09.685816Z",
     "shell.execute_reply": "2024-05-19T15:48:09.808413Z"
    },
    "trusted": true
   },
   "execution_count": 10,
   "outputs": []
  },
  {
   "cell_type": "code",
   "source": "X_train[0], y_train[0], tf.strings.reduce_join(num_to_char(char_to_num(tf.strings.unicode_split(y_train[0], input_encoding=\"UTF-8\")))).numpy().decode('utf-8')",
   "metadata": {
    "execution": {
     "iopub.status.busy": "2024-05-19T15:48:11.631719Z",
     "iopub.execute_input": "2024-05-19T15:48:11.632064Z",
     "iopub.status.idle": "2024-05-19T15:48:11.707485Z",
     "shell.execute_reply.started": "2024-05-19T15:48:11.632039Z",
     "shell.execute_reply": "2024-05-19T15:48:11.706612Z"
    },
    "trusted": true
   },
   "execution_count": 11,
   "outputs": []
  },
  {
   "cell_type": "code",
   "source": "train_dataset = tf.data.Dataset.from_tensor_slices((X_train, y_train))\ntrain_dataset = (\n    train_dataset.map(encode_single_sample, \n                      num_parallel_calls=tf.data.AUTOTUNE)\n    .batch(BATCH_SIZE)\n    .prefetch(buffer_size=tf.data.AUTOTUNE)\n)\n\nvalid_dataset = tf.data.Dataset.from_tensor_slices((X_valid, y_valid))\nvalid_dataset = (\n    valid_dataset.map(encode_single_sample, \n                      num_parallel_calls=tf.data.AUTOTUNE)\n    .batch(BATCH_SIZE)\n    .prefetch(buffer_size=tf.data.AUTOTUNE)\n)\n\ntest_dataset = tf.data.Dataset.from_tensor_slices((TEST_IMAGES, TEST_LABELS))\ntest_dataset = (\n    test_dataset.map(encode_single_sample, num_parallel_calls=tf.data.AUTOTUNE)\n    .batch(BATCH_SIZE)\n    .prefetch(buffer_size=tf.data.AUTOTUNE)\n)",
   "metadata": {
    "execution": {
     "iopub.status.busy": "2024-05-19T15:48:13.849896Z",
     "iopub.execute_input": "2024-05-19T15:48:13.850724Z",
     "iopub.status.idle": "2024-05-19T15:48:14.237125Z",
     "shell.execute_reply.started": "2024-05-19T15:48:13.850690Z",
     "shell.execute_reply": "2024-05-19T15:48:14.236329Z"
    },
    "trusted": true
   },
   "execution_count": 12,
   "outputs": []
  },
  {
   "cell_type": "code",
   "source": "_, ax = plt.subplots(4, 4, figsize=(10, 5))\nfor batch in train_dataset.take(1):\n        \n#    images = batch['image']\n#    labels = batch['label']\n    images = batch[0]\n    labels = batch[1]\n    # print(batch[1].shape)\n    # print('Single Label Shape', labels[0].shape,' Label Value is: ', labels[0])\n    for i in range(16):\n        img = (images[i]*255).numpy().astype('uint8')\n        ori_label = []\n        \n        for l in labels[i]:\n            ori_label.append(np.argmax(l))\n        \n        label = tf.strings.reduce_join(num_to_char(ori_label)).numpy().decode('utf-8')\n        ax[i // 4, i % 4].imshow(img[:, :, 0].T, cmap='gray')\n        ax[i // 4, i % 4].set_title(label)\n        ax[i // 4, i % 4].axis('off')\nplt.show()",
   "metadata": {
    "execution": {
     "iopub.status.busy": "2024-05-19T15:48:16.821296Z",
     "iopub.execute_input": "2024-05-19T15:48:16.821990Z",
     "iopub.status.idle": "2024-05-19T15:48:18.004536Z",
     "shell.execute_reply.started": "2024-05-19T15:48:16.821958Z",
     "shell.execute_reply": "2024-05-19T15:48:18.003599Z"
    },
    "trusted": true
   },
   "execution_count": 13,
   "outputs": []
  },
  {
   "cell_type": "markdown",
   "source": "## Model",
   "metadata": {}
  },
  {
   "cell_type": "code",
   "source": "class SqueezeLayer(layers.Layer):\n    def __init__(self, name='squeeze_layer'):\n        super().__init__(name=name)\n        pass\n        \n    def call(self, inp):\n        return tf.squeeze(inp, axis=2)",
   "metadata": {
    "execution": {
     "iopub.status.busy": "2024-05-19T15:48:23.541477Z",
     "iopub.execute_input": "2024-05-19T15:48:23.541850Z",
     "iopub.status.idle": "2024-05-19T15:48:23.547489Z",
     "shell.execute_reply.started": "2024-05-19T15:48:23.541820Z",
     "shell.execute_reply": "2024-05-19T15:48:23.546468Z"
    },
    "trusted": true
   },
   "execution_count": 14,
   "outputs": []
  },
  {
   "cell_type": "code",
   "source": "initial_learning_rate = 0.001",
   "metadata": {
    "execution": {
     "iopub.status.busy": "2024-05-19T15:48:26.607653Z",
     "iopub.execute_input": "2024-05-19T15:48:26.608011Z",
     "iopub.status.idle": "2024-05-19T15:48:26.612356Z",
     "shell.execute_reply.started": "2024-05-19T15:48:26.607984Z",
     "shell.execute_reply": "2024-05-19T15:48:26.611321Z"
    },
    "trusted": true
   },
   "execution_count": 15,
   "outputs": []
  },
  {
   "cell_type": "code",
   "source": "def get_model_2():\n    tf.random.set_seed(108)\n    img_inp = layers.Input(shape=(IMG_WIDTH, IMG_HEIGHT, 1), name='image')\n    x = layers.Conv2D(filters=32, kernel_size=(3, 3), padding='same', name='conv_1')(img_inp)\n    x = layers.BatchNormalization(name=\"conv_1_bn\")(x)\n    x = layers.ReLU(name=\"conv_1_relu\")(x)\n    x = layers.MaxPooling2D(pool_size=(2, 2), name='pool_1')(x)\n    \n    x = layers.Conv2D(filters=64, kernel_size=(3, 3), padding='same', name='conv_2')(x)\n    x = layers.BatchNormalization(name=\"conv_2_bn\")(x)\n    x = layers.ReLU(name=\"conv_2_relu\")(x)\n    x = layers.MaxPooling2D(pool_size=(2, 2), name='pool_2')(x)\n    \n    x = layers.Conv2D(filters=128, kernel_size=(3, 3), padding='same', name='conv_3')(x)\n    x = layers.BatchNormalization(name=\"conv_3_bn\")(x)\n    x = layers.ReLU(name=\"conv_3_relu\")(x)\n    x = layers.MaxPooling2D(pool_size=(2, 2), name='pool_3')(x)\n    \n    x = layers.Conv2D(filters=256, kernel_size=(3, 3), padding='same', name='conv_4')(x)\n    x = layers.BatchNormalization(name=\"conv_4_bn\")(x)\n    x = layers.ReLU(name=\"conv_4_relu\")(x)\n    x = layers.MaxPooling2D(pool_size=(2, 2), name='pool_4')(x)\n    \n    x = layers.Conv2D(filters=512, kernel_size=(3, 3), padding='same', name='conv_5')(x)\n    x = layers.BatchNormalization(name=\"conv_5_bn\")(x)\n    x = layers.ReLU(name=\"conv_5_relu\")(x)\n    x = layers.MaxPooling2D(pool_size=(2, 2), name='pool_5')(x)\n    \n    x = layers.GlobalAveragePooling2D()(x)\n    \n    x = layers.Dense(1024, name='dense_1')(x)\n    x = layers.BatchNormalization(name=\"dense_1_bn\")(x)\n    x = layers.ReLU(name=\"dense_1_relu\")(x)\n    x = layers.Dropout(0.5)(x)\n    \n    x = layers.Dense(max_length * (len(CHARACTERS) + 1), name='dense_2')(x)\n    x = layers.Reshape((max_length, len(CHARACTERS) + 1))(x)\n    out = layers.Activation('softmax', name='softmax')(x)\n    \n    model = tf.keras.Model(img_inp, out, name=\"OCR_Model\")\n    opt = tf.keras.optimizers.Adam(learning_rate=initial_learning_rate)\n    model.compile(optimizer=opt, loss='categorical_crossentropy', metrics=['accuracy'])\n    model.summary()\n    return model",
   "metadata": {
    "execution": {
     "iopub.status.busy": "2024-05-19T15:48:31.914227Z",
     "iopub.execute_input": "2024-05-19T15:48:31.914597Z",
     "iopub.status.idle": "2024-05-19T15:48:31.930727Z",
     "shell.execute_reply.started": "2024-05-19T15:48:31.914571Z",
     "shell.execute_reply": "2024-05-19T15:48:31.929618Z"
    },
    "trusted": true
   },
   "execution_count": 16,
   "outputs": []
  },
  {
   "cell_type": "code",
   "source": "EPOCHS = 100\nPATIENCE = 10\n\nearly_stopping = tf.keras.callbacks.EarlyStopping(\n    monitor='val_loss', patience=PATIENCE, restore_best_weights=True)\n\ndef lr_step_decay(epoch, lr):\n    drop_rate = 0.5\n    epochs_drop = 10.0\n    return initial_learning_rate * math.pow(drop_rate, math.floor(epoch/epochs_drop))\n\nlrate = tf.keras.callbacks.LearningRateScheduler(lr_step_decay, verbose=1)\n\nmodel = get_model_2()\nhistory = model.fit(\n    train_dataset,\n    validation_data=valid_dataset,\n    epochs=EPOCHS,\n    callbacks=[early_stopping, lrate]\n)",
   "metadata": {
    "execution": {
     "iopub.status.busy": "2024-05-19T15:48:35.273040Z",
     "iopub.execute_input": "2024-05-19T15:48:35.273424Z",
     "iopub.status.idle": "2024-05-19T16:36:39.681349Z",
     "shell.execute_reply.started": "2024-05-19T15:48:35.273395Z",
     "shell.execute_reply": "2024-05-19T16:36:39.680520Z"
    },
    "trusted": true
   },
   "execution_count": 17,
   "outputs": []
  },
  {
   "cell_type": "code",
   "source": "plt.plot(history.history['loss'])\nplt.plot(history.history['val_loss'])\n\nplt.title('OCR Model')\nplt.ylabel('Loss')\nplt.xlabel('Epochs')\nplt.legend(['Training', 'Validation'], loc='upper right')\nplt.show()",
   "metadata": {
    "execution": {
     "iopub.status.busy": "2024-05-19T16:36:39.683618Z",
     "iopub.execute_input": "2024-05-19T16:36:39.683911Z",
     "iopub.status.idle": "2024-05-19T16:36:39.967645Z",
     "shell.execute_reply.started": "2024-05-19T16:36:39.683885Z",
     "shell.execute_reply": "2024-05-19T16:36:39.966811Z"
    },
    "trusted": true
   },
   "execution_count": 18,
   "outputs": []
  },
  {
   "cell_type": "code",
   "source": "plt.plot(history.history['accuracy'])\nplt.plot(history.history['val_accuracy'])\n\nplt.title('OCR Model')\nplt.ylabel('Accuracy')\nplt.xlabel('Epochs')\nplt.legend(['Training', 'Validation'], loc='lower right')\nplt.show()",
   "metadata": {
    "execution": {
     "iopub.status.busy": "2024-05-19T16:36:39.968676Z",
     "iopub.execute_input": "2024-05-19T16:36:39.968946Z",
     "iopub.status.idle": "2024-05-19T16:36:40.185163Z",
     "shell.execute_reply.started": "2024-05-19T16:36:39.968921Z",
     "shell.execute_reply": "2024-05-19T16:36:40.184314Z"
    },
    "trusted": true
   },
   "execution_count": 19,
   "outputs": []
  },
  {
   "cell_type": "code",
   "source": "val_loss, val_acc = model.evaluate(valid_dataset, verbose=0)\nprint(f'Validation Accuracy: {val_acc*100:.3f}%')",
   "metadata": {
    "execution": {
     "iopub.status.busy": "2024-05-19T16:38:03.625235Z",
     "iopub.execute_input": "2024-05-19T16:38:03.625603Z",
     "iopub.status.idle": "2024-05-19T16:38:10.025474Z",
     "shell.execute_reply.started": "2024-05-19T16:38:03.625576Z",
     "shell.execute_reply": "2024-05-19T16:38:10.024558Z"
    },
    "trusted": true
   },
   "execution_count": 20,
   "outputs": []
  },
  {
   "cell_type": "code",
   "source": "def plot_predict_captcha(dataset):\n    _, ax = plt.subplots(8, 4, figsize=(20, 15))\n    for batch in valid_dataset.take(1):\n        images, labels = batch\n        preds = model.predict(images)\n\n        for i in range(8):\n            for j in range(4):\n                index = i*4 + j\n\n                img = (images[index]*255).numpy().astype('uint8')\n\n                ori_label = tf.argmax(labels[index], axis=1)\n                pred_label = tf.argmax(preds[index], axis=1)\n\n                true_label = tf.strings.reduce_join(num_to_char(ori_label)).numpy().decode('utf-8')\n                pred_label = tf.strings.reduce_join(num_to_char(pred_label)).numpy().decode('utf-8')\n\n                title_color = 'green' if true_label == pred_label else 'red'\n\n                ax[i, j].imshow(img[:, :, 0].T, cmap='gray')\n                ax[i, j].set_title(f'True: {true_label}\\nPred: {pred_label}', color=title_color)\n                ax[i, j].axis('off')\n    plt.show()",
   "metadata": {
    "execution": {
     "iopub.status.busy": "2024-05-19T16:38:35.001460Z",
     "iopub.execute_input": "2024-05-19T16:38:35.002295Z",
     "iopub.status.idle": "2024-05-19T16:38:35.011100Z",
     "shell.execute_reply.started": "2024-05-19T16:38:35.002255Z",
     "shell.execute_reply": "2024-05-19T16:38:35.010118Z"
    },
    "trusted": true
   },
   "execution_count": 22,
   "outputs": []
  },
  {
   "cell_type": "code",
   "source": "plot_predict_captcha(valid_dataset)",
   "metadata": {
    "execution": {
     "iopub.status.busy": "2024-05-19T16:38:39.600740Z",
     "iopub.execute_input": "2024-05-19T16:38:39.601095Z",
     "iopub.status.idle": "2024-05-19T16:38:42.657941Z",
     "shell.execute_reply.started": "2024-05-19T16:38:39.601067Z",
     "shell.execute_reply": "2024-05-19T16:38:42.656988Z"
    },
    "trusted": true
   },
   "execution_count": 23,
   "outputs": []
  },
  {
   "cell_type": "code",
   "source": "model.save('ocr_letter_number_model_v3.h5')",
   "metadata": {
    "execution": {
     "iopub.status.busy": "2024-05-19T16:39:04.434088Z",
     "iopub.execute_input": "2024-05-19T16:39:04.434461Z",
     "iopub.status.idle": "2024-05-19T16:39:04.545389Z",
     "shell.execute_reply.started": "2024-05-19T16:39:04.434431Z",
     "shell.execute_reply": "2024-05-19T16:39:04.544581Z"
    },
    "trusted": true
   },
   "execution_count": 24,
   "outputs": []
  },
  {
   "cell_type": "code",
   "source": "val_loss, val_acc = model.evaluate(test_dataset, verbose=0)\nprint(f'Test Accuracy: {val_acc*100:.3f}%')",
   "metadata": {
    "execution": {
     "iopub.status.busy": "2024-05-19T16:40:02.018985Z",
     "iopub.execute_input": "2024-05-19T16:40:02.019692Z",
     "iopub.status.idle": "2024-05-19T16:40:02.098619Z",
     "shell.execute_reply.started": "2024-05-19T16:40:02.019660Z",
     "shell.execute_reply": "2024-05-19T16:40:02.097683Z"
    },
    "trusted": true
   },
   "execution_count": 26,
   "outputs": []
  },
  {
   "cell_type": "code",
   "source": "plot_predict_captcha(test_dataset)",
   "metadata": {
    "execution": {
     "iopub.status.busy": "2024-05-19T16:40:06.327596Z",
     "iopub.execute_input": "2024-05-19T16:40:06.327956Z",
     "iopub.status.idle": "2024-05-19T16:40:08.535727Z",
     "shell.execute_reply.started": "2024-05-19T16:40:06.327928Z",
     "shell.execute_reply": "2024-05-19T16:40:08.534759Z"
    },
    "trusted": true
   },
   "execution_count": 27,
   "outputs": []
  }
 ]
}
