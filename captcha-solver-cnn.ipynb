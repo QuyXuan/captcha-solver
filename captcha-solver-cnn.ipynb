{
 "metadata": {
  "kernelspec": {
   "language": "python",
   "display_name": "Python 3",
   "name": "python3"
  },
  "language_info": {
   "name": "python",
   "version": "3.10.13",
   "mimetype": "text/x-python",
   "codemirror_mode": {
    "name": "ipython",
    "version": 3
   },
   "pygments_lexer": "ipython3",
   "nbconvert_exporter": "python",
   "file_extension": ".py"
  },
  "kaggle": {
   "accelerator": "nvidiaTeslaT4",
   "dataSources": [
    {
     "sourceId": 8333236,
     "sourceType": "datasetVersion",
     "datasetId": 4948531
    }
   ],
   "dockerImageVersionId": 30699,
   "isInternetEnabled": true,
   "language": "python",
   "sourceType": "notebook",
   "isGpuEnabled": true
  }
 },
 "nbformat_minor": 4,
 "nbformat": 4,
 "cells": [
  {
   "cell_type": "code",
   "source": "import random\nimport os\nimport glob\nimport numpy as np\nimport matplotlib.pyplot as plt\nimport PIL\nimport tqdm\nfrom pathlib import Path\nfrom collections import Counter\nimport tensorflow as tf\nfrom tensorflow import keras\nfrom tensorflow.keras import layers\nfrom sklearn.model_selection import train_test_split\n\nfrom sys import getsizeof",
   "metadata": {
    "_uuid": "8f2839f25d086af736a60e9eeb907d3b93b6e0e5",
    "_cell_guid": "b1076dfc-b9ad-4769-8c92-a6c4dae69d19",
    "execution": {
     "iopub.status.busy": "2024-05-06T08:37:39.790697Z",
     "iopub.execute_input": "2024-05-06T08:37:39.791058Z",
     "iopub.status.idle": "2024-05-06T08:37:51.412287Z",
     "shell.execute_reply.started": "2024-05-06T08:37:39.791028Z",
     "shell.execute_reply": "2024-05-06T08:37:51.411472Z"
    },
    "trusted": true
   },
   "execution_count": 1,
   "outputs": []
  },
  {
   "cell_type": "code",
   "source": "data_dir = \"/kaggle/input/captchanumberdataset/captcha_number_dataset\"\n\n# Get list of all the images that end with .jpg\nimage_paths = sorted(list(glob.glob(f\"{data_dir}/*.png\")))\nprint(len(image_paths))\nimage_paths[0]",
   "metadata": {
    "execution": {
     "iopub.status.busy": "2024-05-06T08:38:53.833488Z",
     "iopub.execute_input": "2024-05-06T08:38:53.833861Z",
     "iopub.status.idle": "2024-05-06T08:38:55.050597Z",
     "shell.execute_reply.started": "2024-05-06T08:38:53.833833Z",
     "shell.execute_reply": "2024-05-06T08:38:55.049625Z"
    },
    "trusted": true
   },
   "execution_count": 3,
   "outputs": []
  },
  {
   "cell_type": "code",
   "source": "def label_from_img_path(img_path):\n    return os.path.splitext(os.path.basename(img_path))[0]\n\nimage_paths[230], label_from_img_path(image_paths[230])",
   "metadata": {
    "execution": {
     "iopub.status.busy": "2024-05-06T08:39:20.097304Z",
     "iopub.execute_input": "2024-05-06T08:39:20.097678Z",
     "iopub.status.idle": "2024-05-06T08:39:20.105121Z",
     "shell.execute_reply.started": "2024-05-06T08:39:20.097649Z",
     "shell.execute_reply": "2024-05-06T08:39:20.104216Z"
    },
    "trusted": true
   },
   "execution_count": 4,
   "outputs": []
  },
  {
   "cell_type": "code",
   "source": "labels = [label_from_img_path(img) for img in image_paths]\n#checks which characters are in the dataset\ncharacters = set(char for label in labels for char in label)\nCHARACTERS = sorted(list(characters))\n\nprint(\"Number of images found: \", len(image_paths))\nprint(\"Random image: \", random.choice(image_paths))\nprint(\"Number of labels found: \", len(labels))\nprint(\"Random label: \", random.choice(labels))\nprint(\"sorted charecters set: \", CHARACTERS)\nNUM_CHAR = len(CHARACTERS)\nprint(\"number of charecters: \", NUM_CHAR)",
   "metadata": {
    "execution": {
     "iopub.status.busy": "2024-05-06T08:39:31.247712Z",
     "iopub.execute_input": "2024-05-06T08:39:31.248643Z",
     "iopub.status.idle": "2024-05-06T08:39:31.631082Z",
     "shell.execute_reply.started": "2024-05-06T08:39:31.248601Z",
     "shell.execute_reply": "2024-05-06T08:39:31.630170Z"
    },
    "trusted": true
   },
   "execution_count": 5,
   "outputs": []
  },
  {
   "cell_type": "code",
   "source": "# Maximum length of any captcha in the dataset\nmax_length = max([len(label) for label in labels])\n\nprint (\"the maximum length of any captcha\", max_length)\n\n# minimum length of any captcha in the dataset\nmin_length = min([len(label) for label in labels])\n\nprint (\"the minimum length of any captcha\", min_length)\n\nif (max_length == min_length):\n    print (\"all the cpatchas are 5 letters long\")\nelse:\n    print (\"the captchats are of diffrent length\")\n#now we know that all the cpatchas are 5 letters long",
   "metadata": {
    "execution": {
     "iopub.status.busy": "2024-05-06T08:39:38.601544Z",
     "iopub.execute_input": "2024-05-06T08:39:38.602452Z",
     "iopub.status.idle": "2024-05-06T08:39:38.642065Z",
     "shell.execute_reply.started": "2024-05-06T08:39:38.602413Z",
     "shell.execute_reply": "2024-05-06T08:39:38.640718Z"
    },
    "trusted": true
   },
   "execution_count": 6,
   "outputs": []
  },
  {
   "cell_type": "code",
   "source": "CHAR_PER_LABEL = 5\nlabel_char_count = np.array([len(label) for label in labels])\n(label_char_count == CHAR_PER_LABEL).all()",
   "metadata": {
    "execution": {
     "iopub.status.busy": "2024-05-06T08:39:45.281775Z",
     "iopub.execute_input": "2024-05-06T08:39:45.282173Z",
     "iopub.status.idle": "2024-05-06T08:39:45.306362Z",
     "shell.execute_reply.started": "2024-05-06T08:39:45.282135Z",
     "shell.execute_reply": "2024-05-06T08:39:45.305308Z"
    },
    "trusted": true
   },
   "execution_count": 7,
   "outputs": []
  },
  {
   "cell_type": "code",
   "source": "def char_to_one_hot(char: str):\n    out = np.zeros(len(CHARACTERS))\n    idx = CHARACTERS.index(char)\n    out[idx] = 1\n    return out\n\n\ndef one_hot(characters: str):\n    return np.hstack([char_to_one_hot(c) for c in characters]).astype('uint8')",
   "metadata": {
    "execution": {
     "iopub.status.busy": "2024-05-06T08:39:49.144620Z",
     "iopub.execute_input": "2024-05-06T08:39:49.145426Z",
     "iopub.status.idle": "2024-05-06T08:39:49.150636Z",
     "shell.execute_reply.started": "2024-05-06T08:39:49.145394Z",
     "shell.execute_reply": "2024-05-06T08:39:49.149781Z"
    },
    "trusted": true
   },
   "execution_count": 8,
   "outputs": []
  },
  {
   "cell_type": "code",
   "source": "assert len(char_to_one_hot('0')) == NUM_CHAR\nassert char_to_one_hot('1').sum() == 1\n\ntest_string = '01234'\nassert len(one_hot(test_string)) == NUM_CHAR * len(test_string)",
   "metadata": {
    "execution": {
     "iopub.status.busy": "2024-05-06T08:40:16.619144Z",
     "iopub.execute_input": "2024-05-06T08:40:16.619505Z",
     "iopub.status.idle": "2024-05-06T08:40:16.625714Z",
     "shell.execute_reply.started": "2024-05-06T08:40:16.619478Z",
     "shell.execute_reply": "2024-05-06T08:40:16.624627Z"
    },
    "trusted": true
   },
   "execution_count": 11,
   "outputs": []
  },
  {
   "cell_type": "code",
   "source": "def one_hot_to_char(x: np.array):\n    y = np.array(x)\n    y = y.squeeze()\n    assert len(y) == NUM_CHAR\n    idx = np.argmax(y)\n    return(CHARACTERS[idx])\n\n\ndef one_hot_to_label(x):\n    y = np.array(x)\n    y = y.squeeze()\n    label_list = []\n    assert len(y) == len(CHARACTERS * CHAR_PER_LABEL)\n    for i in range(0, CHAR_PER_LABEL):\n        start = i * NUM_CHAR\n        end = start + NUM_CHAR\n        label_list.append(one_hot_to_char(y[start: end]))\n    return \"\".join(label_list)",
   "metadata": {
    "execution": {
     "iopub.status.busy": "2024-05-06T08:40:56.987650Z",
     "iopub.execute_input": "2024-05-06T08:40:56.988482Z",
     "iopub.status.idle": "2024-05-06T08:40:56.995462Z",
     "shell.execute_reply.started": "2024-05-06T08:40:56.988448Z",
     "shell.execute_reply": "2024-05-06T08:40:56.994453Z"
    },
    "trusted": true
   },
   "execution_count": 12,
   "outputs": []
  },
  {
   "cell_type": "code",
   "source": "test_string = \"34532\"\nassert one_hot_to_label(one_hot(test_string)) == test_string",
   "metadata": {
    "execution": {
     "iopub.status.busy": "2024-05-06T08:41:08.416759Z",
     "iopub.execute_input": "2024-05-06T08:41:08.417597Z",
     "iopub.status.idle": "2024-05-06T08:41:08.422983Z",
     "shell.execute_reply.started": "2024-05-06T08:41:08.417564Z",
     "shell.execute_reply": "2024-05-06T08:41:08.421818Z"
    },
    "trusted": true
   },
   "execution_count": 13,
   "outputs": []
  },
  {
   "cell_type": "markdown",
   "source": "## Data handling",
   "metadata": {}
  },
  {
   "cell_type": "code",
   "source": "images = [np.array(PIL.Image.open(img_path).convert('L')).astype('uint8') for img_path in tqdm.tqdm(image_paths)]\nimages_arr = np.array(images)\nimages_arr.shape",
   "metadata": {
    "execution": {
     "iopub.status.busy": "2024-05-06T08:41:17.854981Z",
     "iopub.execute_input": "2024-05-06T08:41:17.855870Z",
     "iopub.status.idle": "2024-05-06T08:48:05.792801Z",
     "shell.execute_reply.started": "2024-05-06T08:41:17.855837Z",
     "shell.execute_reply": "2024-05-06T08:48:05.791868Z"
    },
    "trusted": true
   },
   "execution_count": 14,
   "outputs": []
  },
  {
   "cell_type": "code",
   "source": "labels_one_hot = np.array([one_hot(label) for label in tqdm.tqdm(labels)])\ngetsizeof(labels_one_hot)/1e6",
   "metadata": {
    "execution": {
     "iopub.status.busy": "2024-05-06T08:49:05.689946Z",
     "iopub.execute_input": "2024-05-06T08:49:05.690657Z",
     "iopub.status.idle": "2024-05-06T08:49:07.457418Z",
     "shell.execute_reply.started": "2024-05-06T08:49:05.690611Z",
     "shell.execute_reply": "2024-05-06T08:49:07.456502Z"
    },
    "trusted": true
   },
   "execution_count": 15,
   "outputs": []
  },
  {
   "cell_type": "code",
   "source": "getsizeof(images_arr)/1e6, getsizeof(labels_one_hot)/1e6",
   "metadata": {
    "execution": {
     "iopub.status.busy": "2024-05-06T08:49:11.695586Z",
     "iopub.execute_input": "2024-05-06T08:49:11.696532Z",
     "iopub.status.idle": "2024-05-06T08:49:11.702164Z",
     "shell.execute_reply.started": "2024-05-06T08:49:11.696499Z",
     "shell.execute_reply": "2024-05-06T08:49:11.701255Z"
    },
    "trusted": true
   },
   "execution_count": 16,
   "outputs": []
  },
  {
   "cell_type": "code",
   "source": "from sklearn.model_selection import train_test_split\n\nN = None\n\ntrain_X, val_X, train_y, val_y = train_test_split(images_arr[:N, ...], labels_one_hot[:N, ...], test_size=0.2, random_state=12345)\ntrain_X.shape, val_X.shape, train_y.shape, val_y.shape",
   "metadata": {
    "execution": {
     "iopub.status.busy": "2024-05-06T08:49:19.673476Z",
     "iopub.execute_input": "2024-05-06T08:49:19.673852Z",
     "iopub.status.idle": "2024-05-06T08:49:19.886457Z",
     "shell.execute_reply.started": "2024-05-06T08:49:19.673822Z",
     "shell.execute_reply": "2024-05-06T08:49:19.885555Z"
    },
    "trusted": true
   },
   "execution_count": 17,
   "outputs": []
  },
  {
   "cell_type": "code",
   "source": "del images_arr\ndel labels_one_hot",
   "metadata": {
    "execution": {
     "iopub.status.busy": "2024-05-06T08:49:27.152633Z",
     "iopub.execute_input": "2024-05-06T08:49:27.153285Z",
     "iopub.status.idle": "2024-05-06T08:49:27.159276Z",
     "shell.execute_reply.started": "2024-05-06T08:49:27.153254Z",
     "shell.execute_reply": "2024-05-06T08:49:27.158269Z"
    },
    "trusted": true
   },
   "execution_count": 18,
   "outputs": []
  },
  {
   "cell_type": "code",
   "source": "for i in [576, 1023, 536]:\n    img = train_X[i, ...].squeeze()\n    plt.figure()\n    plt.imshow(img)\n    plt.title(one_hot_to_label(train_y[i, ...].squeeze()))\nplt.show()",
   "metadata": {
    "execution": {
     "iopub.status.busy": "2024-05-06T08:49:30.803101Z",
     "iopub.execute_input": "2024-05-06T08:49:30.803458Z",
     "iopub.status.idle": "2024-05-06T08:49:31.527681Z",
     "shell.execute_reply.started": "2024-05-06T08:49:30.803428Z",
     "shell.execute_reply": "2024-05-06T08:49:31.526757Z"
    },
    "trusted": true
   },
   "execution_count": 19,
   "outputs": []
  },
  {
   "cell_type": "code",
   "source": "from tensorflow.keras.preprocessing.image import ImageDataGenerator\ntrain_datagen = ImageDataGenerator(rescale=1./255)\nval_datagen = ImageDataGenerator(rescale=1./255)",
   "metadata": {
    "execution": {
     "iopub.status.busy": "2024-05-06T08:50:02.564524Z",
     "iopub.execute_input": "2024-05-06T08:50:02.564992Z",
     "iopub.status.idle": "2024-05-06T08:50:02.573070Z",
     "shell.execute_reply.started": "2024-05-06T08:50:02.564942Z",
     "shell.execute_reply": "2024-05-06T08:50:02.571734Z"
    },
    "trusted": true
   },
   "execution_count": 20,
   "outputs": []
  },
  {
   "cell_type": "code",
   "source": "def my_loss(y_true, y_pred):\n    tot = 0.0\n    for i in range(CHAR_PER_LABEL):\n        start = i * NUM_CHAR\n        end = start + NUM_CHAR\n        tot += tf.nn.softmax_cross_entropy_with_logits(y_true[:, start:end], y_pred[:, start:end], axis=-1)\n    return tot\n\ndef score_2(y_true, y_pred):\n    hits = []\n    for i in range(0, CHAR_PER_LABEL):\n        start = i * NUM_CHAR\n        end = start + NUM_CHAR\n        idx = tf.math.argmax(y_pred[:, start:end], axis=1)\n        hits.append([y_true[:, start:end][i, index] for i, index in enumerate(idx.numpy())])\n    return tf.math.reduce_sum(tf.convert_to_tensor(hits), axis=0)/CHAR_PER_LABEL\n\ndef score_tf(y_true, y_pred):\n    y_pred_mat = tf.reshape(y_pred, (-1, CHAR_PER_LABEL, NUM_CHAR))\n    idx = tf.math.argmax(y_pred_mat, axis=-1)\n    \n    y_true_mat = tf.cast(tf.reshape(y_true, (-1, CHAR_PER_LABEL, NUM_CHAR)), 'float32')\n    return tf.math.reduce_mean(tf.math.reduce_sum(tf.one_hot(idx, NUM_CHAR) * y_true_mat, axis=-1), axis=-1) \n\ndef score_np(y_true, y_pred):\n    y_pred_mat = np.reshape(y_pred, (-1, CHAR_PER_LABEL, NUM_CHAR))\n    idx = y_pred_mat.argmax(axis=-1)\n    \n    y_true_mat = np.reshape(y_true, (-1, CHAR_PER_LABEL, NUM_CHAR))\n    return (tf.one_hot(idx, NUM_CHAR).numpy() * y_true_mat).sum(axis=-1).mean(axis=-1) \n\n#test\n\ns1 = \"12345\"\ns2 = \"23456\"\n\nsp1 = \"34567\"  # 2/5\nsp2 = \"45678\"  # 5/5\n\ny_true = np.vstack([one_hot(s1), one_hot(s2)])\n\n# lets \ny_pred = np.vstack([one_hot(sp1), one_hot(sp2)])\ny_pred = np.clip(y_pred + 0.0*np.random.rand(*y_pred.shape), 0, 1)\ny_true_tf = tf.convert_to_tensor(y_true)\ny_pred_tf = tf.convert_to_tensor(y_pred)\ny_true_tf.shape, y_pred_tf.shape\nmy_loss(y_true_tf, y_pred_tf)\nprint(\"tensorflow\", score_2(y_true_tf, y_pred_tf), score_tf(y_true_tf, y_pred_tf))\nprint(\"numpy\", score_np(y_true, y_pred))",
   "metadata": {
    "execution": {
     "iopub.status.busy": "2024-05-06T08:50:55.439447Z",
     "iopub.execute_input": "2024-05-06T08:50:55.439808Z",
     "iopub.status.idle": "2024-05-06T08:50:56.324151Z",
     "shell.execute_reply.started": "2024-05-06T08:50:55.439777Z",
     "shell.execute_reply": "2024-05-06T08:50:56.323271Z"
    },
    "trusted": true
   },
   "execution_count": 22,
   "outputs": []
  },
  {
   "cell_type": "code",
   "source": "from keras.callbacks import ReduceLROnPlateau",
   "metadata": {
    "execution": {
     "iopub.status.busy": "2024-05-06T08:51:01.464598Z",
     "iopub.execute_input": "2024-05-06T08:51:01.464951Z",
     "iopub.status.idle": "2024-05-06T08:51:01.469894Z",
     "shell.execute_reply.started": "2024-05-06T08:51:01.464923Z",
     "shell.execute_reply": "2024-05-06T08:51:01.468795Z"
    },
    "trusted": true
   },
   "execution_count": 23,
   "outputs": []
  },
  {
   "cell_type": "code",
   "source": "os.getcwd()\ncheckout_dir = 'model_checkout'\nif checkout_dir not in os.listdir():\n    os.mkdir('model_checkout')",
   "metadata": {
    "execution": {
     "iopub.status.busy": "2024-05-06T08:51:05.581793Z",
     "iopub.execute_input": "2024-05-06T08:51:05.582770Z",
     "iopub.status.idle": "2024-05-06T08:51:05.588884Z",
     "shell.execute_reply.started": "2024-05-06T08:51:05.582728Z",
     "shell.execute_reply": "2024-05-06T08:51:05.587814Z"
    },
    "trusted": true
   },
   "execution_count": 24,
   "outputs": []
  },
  {
   "cell_type": "code",
   "source": "model = tf.keras.models.Sequential([\n    keras.Input(shape=(40, 150, 1)),\n    tf.keras.layers.Conv2D(64, (3, 3), activation='relu', padding='same'),\n    tf.keras.layers.BatchNormalization(),\n    tf.keras.layers.MaxPooling2D(pool_size=(2, 2)),\n    tf.keras.layers.Conv2D(128, (3, 3), activation='relu', padding='same'),\n    tf.keras.layers.BatchNormalization(),\n    tf.keras.layers.MaxPooling2D(pool_size=(2, 2)),\n    tf.keras.layers.Conv2D(256, (3, 3), activation='relu', padding='same'),\n    tf.keras.layers.BatchNormalization(),\n    tf.keras.layers.MaxPooling2D(pool_size=(2, 2)),\n    tf.keras.layers.Conv2D(512, (3, 3), activation='relu', padding='same'),\n    tf.keras.layers.BatchNormalization(),\n    tf.keras.layers.MaxPooling2D(pool_size=(1, 2)),\n    tf.keras.layers.Flatten(),\n    tf.keras.layers.BatchNormalization(),\n    tf.keras.layers.Dropout(0.5),\n#     tf.keras.layers.GlobalAveragePooling2D(),\n    tf.keras.layers.Dense(512, activation='relu'),\n    tf.keras.layers.BatchNormalization(),\n    tf.keras.layers.Dropout(0.75),\n    tf.keras.layers.Dense(len(CHARACTERS) * 5)\n])\n\nmodel.summary()",
   "metadata": {
    "execution": {
     "iopub.status.busy": "2024-05-06T08:51:45.344000Z",
     "iopub.execute_input": "2024-05-06T08:51:45.344628Z",
     "iopub.status.idle": "2024-05-06T08:51:45.485788Z",
     "shell.execute_reply.started": "2024-05-06T08:51:45.344596Z",
     "shell.execute_reply": "2024-05-06T08:51:45.484890Z"
    },
    "trusted": true
   },
   "execution_count": 27,
   "outputs": []
  },
  {
   "cell_type": "code",
   "source": "batch_size = 16",
   "metadata": {
    "execution": {
     "iopub.status.busy": "2024-05-06T08:51:50.215216Z",
     "iopub.execute_input": "2024-05-06T08:51:50.215568Z",
     "iopub.status.idle": "2024-05-06T08:51:50.219724Z",
     "shell.execute_reply.started": "2024-05-06T08:51:50.215541Z",
     "shell.execute_reply": "2024-05-06T08:51:50.218726Z"
    },
    "trusted": true
   },
   "execution_count": 28,
   "outputs": []
  },
  {
   "cell_type": "code",
   "source": "model_name = f\"cnn_{model.count_params()}_params\"\n\n# Define the learning rate schedule\nlr = 1e-3\nlr_str = str(lr).replace(\".\", \"\")\nlearning_rate_schedule = ReduceLROnPlateau(monitor='val_loss', factor=0.1, patience=5)\ncheckpoint = tf.keras.callbacks.ModelCheckpoint(checkout_dir + f'/{model_name}_batch_size_{batch_size}_init_lr_{lr_str}.weights.h5', save_best_only=True, save_weights_only=True)\n# Compile and train your model\n# run_eagerly=True is for score_2 to work\nmodel.compile(optimizer=tf.keras.optimizers.Adam(lr), loss=my_loss, metrics=['accuracy', score_tf])",
   "metadata": {
    "execution": {
     "iopub.status.busy": "2024-05-06T08:51:54.029223Z",
     "iopub.execute_input": "2024-05-06T08:51:54.029990Z",
     "iopub.status.idle": "2024-05-06T08:51:54.045668Z",
     "shell.execute_reply.started": "2024-05-06T08:51:54.029944Z",
     "shell.execute_reply": "2024-05-06T08:51:54.044721Z"
    },
    "trusted": true
   },
   "execution_count": 29,
   "outputs": []
  },
  {
   "cell_type": "code",
   "source": "# Train the model with the learning rate schedule\nhistory = model.fit(\n    train_datagen.flow(train_X[..., np.newaxis], train_y, batch_size=batch_size),\n    epochs=60,\n    batch_size=batch_size,\n    validation_data=val_datagen.flow(val_X[..., np.newaxis], val_y, batch_size=batch_size),\n    callbacks=[learning_rate_schedule, checkpoint]\n    \n)",
   "metadata": {
    "execution": {
     "iopub.status.busy": "2024-05-06T08:51:57.974219Z",
     "iopub.execute_input": "2024-05-06T08:51:57.974918Z",
     "iopub.status.idle": "2024-05-06T10:12:25.810187Z",
     "shell.execute_reply.started": "2024-05-06T08:51:57.974885Z",
     "shell.execute_reply": "2024-05-06T10:12:25.809259Z"
    },
    "trusted": true
   },
   "execution_count": 30,
   "outputs": []
  },
  {
   "cell_type": "code",
   "source": "history.history.keys()",
   "metadata": {
    "execution": {
     "iopub.status.busy": "2024-05-05T07:54:30.298695Z",
     "iopub.execute_input": "2024-05-05T07:54:30.299082Z",
     "iopub.status.idle": "2024-05-05T07:54:30.305244Z",
     "shell.execute_reply.started": "2024-05-05T07:54:30.299052Z",
     "shell.execute_reply": "2024-05-05T07:54:30.304356Z"
    },
    "trusted": true
   },
   "execution_count": 41,
   "outputs": []
  },
  {
   "cell_type": "code",
   "source": "#Plot Results\n_, ax = plt.subplots(1,2, figsize=(12,4))\n\nax[0].plot(history.history['score_tf'])\nax[0].plot(history.history['val_score_tf'])\nax[0].set_title('model accuracy')\nax[0].set_ylabel('mean score')\nax[0].set_xlabel('epoch')\nax[0].legend(['train', 'val'], loc='upper left')\n\n\nax[1].plot(history.history['loss'])\nax[1].plot(history.history['val_loss'])\nax[1].set_title('training loss')\nax[1].set_ylabel('loss')\nax[1].set_xlabel('epoch')\nax[1].legend(['train', 'val'], loc='upper left')\nplt.show()",
   "metadata": {
    "execution": {
     "iopub.status.busy": "2024-05-06T10:12:41.627699Z",
     "iopub.execute_input": "2024-05-06T10:12:41.628496Z",
     "iopub.status.idle": "2024-05-06T10:12:42.067194Z",
     "shell.execute_reply.started": "2024-05-06T10:12:41.628458Z",
     "shell.execute_reply": "2024-05-06T10:12:42.066209Z"
    },
    "trusted": true
   },
   "execution_count": 31,
   "outputs": []
  },
  {
   "cell_type": "code",
   "source": "i = 0\ny_pred = model.predict(val_X[0:1, ...]/255)\n\nplt.figure()\nplt.imshow(val_X[i, ...].squeeze())\nplt.title(one_hot_to_label(val_y[i, ...].squeeze()))\nprint(one_hot_to_label(y_pred.squeeze()))",
   "metadata": {
    "execution": {
     "iopub.status.busy": "2024-05-06T10:12:48.475871Z",
     "iopub.execute_input": "2024-05-06T10:12:48.476235Z",
     "iopub.status.idle": "2024-05-06T10:12:50.189207Z",
     "shell.execute_reply.started": "2024-05-06T10:12:48.476207Z",
     "shell.execute_reply": "2024-05-06T10:12:50.188345Z"
    },
    "trusted": true
   },
   "execution_count": 32,
   "outputs": []
  },
  {
   "cell_type": "code",
   "source": "val_pred = model.predict(val_X/255)\nprint(val_pred.shape)",
   "metadata": {
    "execution": {
     "iopub.status.busy": "2024-05-06T10:13:01.457737Z",
     "iopub.execute_input": "2024-05-06T10:13:01.458102Z",
     "iopub.status.idle": "2024-05-06T10:13:09.198161Z",
     "shell.execute_reply.started": "2024-05-06T10:13:01.458072Z",
     "shell.execute_reply": "2024-05-06T10:13:09.197195Z"
    },
    "trusted": true
   },
   "execution_count": 33,
   "outputs": []
  },
  {
   "cell_type": "code",
   "source": "scores = score_np(val_y, val_pred)",
   "metadata": {
    "execution": {
     "iopub.status.busy": "2024-05-06T10:14:04.455733Z",
     "iopub.execute_input": "2024-05-06T10:14:04.456767Z",
     "iopub.status.idle": "2024-05-06T10:14:04.479703Z",
     "shell.execute_reply.started": "2024-05-06T10:14:04.456732Z",
     "shell.execute_reply": "2024-05-06T10:14:04.478707Z"
    },
    "trusted": true
   },
   "execution_count": 34,
   "outputs": []
  },
  {
   "cell_type": "code",
   "source": "counts, bins = np.histogram(scores, bins=np.arange(0, 1.2, 0.2))",
   "metadata": {
    "execution": {
     "iopub.status.busy": "2024-05-06T10:14:06.917016Z",
     "iopub.execute_input": "2024-05-06T10:14:06.917455Z",
     "iopub.status.idle": "2024-05-06T10:14:06.923919Z",
     "shell.execute_reply.started": "2024-05-06T10:14:06.917417Z",
     "shell.execute_reply": "2024-05-06T10:14:06.922783Z"
    },
    "trusted": true
   },
   "execution_count": 35,
   "outputs": []
  },
  {
   "cell_type": "code",
   "source": "plt.bar(x=bins[1:], height=counts/counts.sum(), width=0.15)\nplt.title(\"score frequency\")\nplt.ylabel(\"frequency\")\nplt.xlabel(\"score\")\nplt.show()",
   "metadata": {
    "execution": {
     "iopub.status.busy": "2024-05-06T10:14:08.997482Z",
     "iopub.execute_input": "2024-05-06T10:14:08.998264Z",
     "iopub.status.idle": "2024-05-06T10:14:09.273682Z",
     "shell.execute_reply.started": "2024-05-06T10:14:08.998225Z",
     "shell.execute_reply": "2024-05-06T10:14:09.272412Z"
    },
    "trusted": true
   },
   "execution_count": 36,
   "outputs": []
  },
  {
   "cell_type": "code",
   "source": "loaded_model = tf.keras.models.Sequential([\n    keras.Input(shape=(40, 150, 1)),\n    tf.keras.layers.Conv2D(64, (3, 3), activation='relu', padding='same'),\n    tf.keras.layers.BatchNormalization(),\n    tf.keras.layers.MaxPooling2D(pool_size=(2, 2)),\n    tf.keras.layers.Conv2D(128, (3, 3), activation='relu', padding='same'),\n    tf.keras.layers.BatchNormalization(),\n    tf.keras.layers.MaxPooling2D(pool_size=(2, 2)),\n    tf.keras.layers.Conv2D(256, (3, 3), activation='relu', padding='same'),\n    tf.keras.layers.BatchNormalization(),\n    tf.keras.layers.MaxPooling2D(pool_size=(2, 2)),\n    tf.keras.layers.Conv2D(512, (3, 3), activation='relu', padding='same'),\n    tf.keras.layers.BatchNormalization(),\n    tf.keras.layers.MaxPooling2D(pool_size=(1, 2)),\n    tf.keras.layers.Flatten(),\n    tf.keras.layers.BatchNormalization(),\n    tf.keras.layers.Dropout(0.5),\n#     tf.keras.layers.GlobalAveragePooling2D(),\n    tf.keras.layers.Dense(512, activation='relu'),\n    tf.keras.layers.BatchNormalization(),\n    tf.keras.layers.Dropout(0.75),\n    tf.keras.layers.Dense(len(CHARACTERS) * 5)\n])\n\nweights_path = \"/kaggle/working/model_checkout/cnn_13470514_params_batch_size_16_init_lr_0001.weights.h5\"\nloaded_model.load_weights(weights_path)",
   "metadata": {
    "execution": {
     "iopub.status.busy": "2024-05-06T10:14:59.956853Z",
     "iopub.execute_input": "2024-05-06T10:14:59.957718Z",
     "iopub.status.idle": "2024-05-06T10:15:00.228730Z",
     "shell.execute_reply.started": "2024-05-06T10:14:59.957685Z",
     "shell.execute_reply": "2024-05-06T10:15:00.227600Z"
    },
    "trusted": true
   },
   "execution_count": 38,
   "outputs": []
  },
  {
   "cell_type": "code",
   "source": "i = 0\ny_pred = loaded_model.predict(val_X[0:1, ...]/255)\n\nplt.figure()\nplt.imshow(val_X[i, ...].squeeze())\nplt.title(one_hot_to_label(val_y[i, ...].squeeze()))\nprint(one_hot_to_label(y_pred.squeeze()))",
   "metadata": {
    "execution": {
     "iopub.status.busy": "2024-05-06T10:15:03.173752Z",
     "iopub.execute_input": "2024-05-06T10:15:03.174413Z",
     "iopub.status.idle": "2024-05-06T10:15:03.998029Z",
     "shell.execute_reply.started": "2024-05-06T10:15:03.174380Z",
     "shell.execute_reply": "2024-05-06T10:15:03.997156Z"
    },
    "trusted": true
   },
   "execution_count": 39,
   "outputs": []
  }
 ]
}
